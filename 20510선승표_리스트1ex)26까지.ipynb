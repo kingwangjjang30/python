{
  "nbformat": 4,
  "nbformat_minor": 0,
  "metadata": {
    "colab": {
      "provenance": []
    },
    "kernelspec": {
      "name": "python3",
      "display_name": "Python 3"
    },
    "language_info": {
      "name": "python"
    }
  },
  "cells": [
    {
      "cell_type": "code",
      "execution_count": 3,
      "metadata": {
        "id": "Lzw408FtM6Hw"
      },
      "outputs": [],
      "source": [
        "#3\n",
        "a=[]\n",
        "b=list()\n",
        "print(a)\n",
        "print(b)\n",
        "print(type(a))"
      ]
    },
    {
      "cell_type": "code",
      "source": [
        "#c22_ex4\n",
        "num=range(1,21,2)\n",
        "print(num)\n",
        "print(type(num))\n",
        "num=list(range(1,21,2))\n",
        "print(num)\n",
        "print(type(num))"
      ],
      "metadata": {
        "id": "oGxpIRw4NPAh"
      },
      "execution_count": 8,
      "outputs": []
    },
    {
      "cell_type": "code",
      "source": [
        "animals=['토끼','거북이','사자','호랑이']\n",
        "print(animals[1:3])\n"
      ],
      "metadata": {
        "colab": {
          "base_uri": "https://localhost:8080/"
        },
        "id": "G_zXa8A9NmD0",
        "outputId": "5f645111-4834-4e26-a60f-7769fb8c042b"
      },
      "execution_count": 15,
      "outputs": [
        {
          "output_type": "stream",
          "name": "stdout",
          "text": [
            "['거북이', '사자']\n"
          ]
        }
      ]
    },
    {
      "cell_type": "code",
      "source": [
        "\n",
        "colors=['red','blue','green']\n",
        "print(colors)\n",
        "print(type(colors))\n",
        "print(colors[0])"
      ],
      "metadata": {
        "id": "9HGqF_siP7Gm"
      },
      "execution_count": null,
      "outputs": []
    },
    {
      "cell_type": "code",
      "source": [
        "colors=['red','blue','green']\n",
        "print(colors)\n",
        "print(type(colors))\n",
        "print(colors[0])"
      ],
      "metadata": {
        "id": "ZATIM1sQP8xG"
      },
      "execution_count": null,
      "outputs": []
    },
    {
      "cell_type": "code",
      "source": [
        "a=[]\n",
        "b=list()\n",
        "print(a)\n",
        "print(b)\n",
        "print(type(a))"
      ],
      "metadata": {
        "id": "w901KE5iP-Ut"
      },
      "execution_count": null,
      "outputs": []
    },
    {
      "cell_type": "code",
      "source": [
        "#4\n",
        "num=list(range(1,21,2))\n",
        "print(num)\n",
        "print(type(num))\n",
        "a=list(\"Korea\")\n",
        "print(a)\n",
        "print(type(a))\n"
      ],
      "metadata": {
        "colab": {
          "base_uri": "https://localhost:8080/"
        },
        "id": "XFrGe03CP-09",
        "outputId": "6596c07f-4ec7-471a-fc16-eb81859e1fa7"
      },
      "execution_count": 21,
      "outputs": [
        {
          "output_type": "stream",
          "name": "stdout",
          "text": [
            "[1, 3, 5, 7, 9, 11, 13, 15, 17, 19]\n",
            "<class 'list'>\n",
            "['K', 'o', 'r', 'e', 'a']\n",
            "<class 'list'>\n"
          ]
        }
      ]
    },
    {
      "cell_type": "code",
      "source": [
        "#5\n",
        "num=list(range(1,21,2))\n",
        "\n",
        "print(len(num))\n",
        "a=list(\"Korea\")\n",
        "print(len(a))"
      ],
      "metadata": {
        "colab": {
          "base_uri": "https://localhost:8080/"
        },
        "id": "KIQNXB5UQd0l",
        "outputId": "e1ba67e3-5b1f-45a2-f5ae-9aaf4506da85"
      },
      "execution_count": 23,
      "outputs": [
        {
          "output_type": "stream",
          "name": "stdout",
          "text": [
            "10\n",
            "5\n"
          ]
        }
      ]
    },
    {
      "cell_type": "code",
      "source": [
        "#6\n",
        "score=[88,95,70,100,99,80,78,50]\n",
        "print(len(score))\n",
        "max=0\n",
        "min=100\n",
        "for i in range(len(score)):\n",
        "  if(score[i]>max):\n",
        "    max=score[i]\n",
        "  if(score[i]<min):\n",
        "    min=score[i]\n",
        "print(\"최고 점수는 %d 점입니다\"%(max))\n",
        "print(\"최저 점수는 %d 점입니다\"%(min))\n"
      ],
      "metadata": {
        "colab": {
          "base_uri": "https://localhost:8080/"
        },
        "id": "63RcvWs0Qz9d",
        "outputId": "336512ad-af41-497f-d662-f5d115116748"
      },
      "execution_count": 31,
      "outputs": [
        {
          "output_type": "stream",
          "name": "stdout",
          "text": [
            "8\n",
            "최고 점수는 100 점입니다\n",
            "최저 점수는 50 점입니다\n"
          ]
        }
      ]
    },
    {
      "cell_type": "code",
      "source": [
        "#7\n",
        "score=[88,95,70,100,99]\n",
        "for i in range(1,len(score),1):\n",
        "  print(score[i],end=' ')\n",
        "print(\"\\n\")\n",
        "for i in range(-1,-len(score),-1):\n",
        "  print(score[i],end=' ')"
      ],
      "metadata": {
        "colab": {
          "base_uri": "https://localhost:8080/"
        },
        "id": "oqi_y5CKTku4",
        "outputId": "d1017984-eb19-4dc3-e774-46bbcab8808e"
      },
      "execution_count": 43,
      "outputs": [
        {
          "output_type": "stream",
          "name": "stdout",
          "text": [
            "95 70 100 99 \n",
            "\n",
            "99 100 70 95 "
          ]
        }
      ]
    },
    {
      "cell_type": "code",
      "source": [
        "#8\n",
        "score=[88,95,70,100,99]\n",
        "score[0]=10\n",
        "score[1]=20\n",
        "score[2]=30\n",
        "score[3]=40\n",
        "score[4]=50\n",
        "print(list(score))"
      ],
      "metadata": {
        "colab": {
          "base_uri": "https://localhost:8080/"
        },
        "id": "rgcLXEq0U92M",
        "outputId": "7727a3b6-2132-475c-89f8-d63d2f63fd22"
      },
      "execution_count": 47,
      "outputs": [
        {
          "output_type": "stream",
          "name": "stdout",
          "text": [
            "[10, 20, 30, 40, 50]\n"
          ]
        }
      ]
    },
    {
      "cell_type": "code",
      "source": [
        "#9\n",
        "animals=['토끼','거북이','사자','호랑이']\n",
        "\n",
        "i=0\n",
        "while(i<len(animals)):\n",
        "  print(animals[i])\n",
        "  i+=1"
      ],
      "metadata": {
        "colab": {
          "base_uri": "https://localhost:8080/"
        },
        "id": "hoNmJTtxVr5d",
        "outputId": "38cd639e-df8c-48d7-b438-8751de999ed9"
      },
      "execution_count": 49,
      "outputs": [
        {
          "output_type": "stream",
          "name": "stdout",
          "text": [
            "토끼\n",
            "거북이\n",
            "사자\n",
            "호랑이\n"
          ]
        }
      ]
    },
    {
      "cell_type": "markdown",
      "source": [],
      "metadata": {
        "id": "7eTSLImwWASA"
      }
    },
    {
      "cell_type": "code",
      "source": [
        "#10\n",
        "nums=[0,1,2,3,4,5,6,7,8,9]\n",
        "print(nums[2:5])\n",
        "print(nums[1:6:2])\n",
        "print(nums[0:5:2])"
      ],
      "metadata": {
        "id": "QXrOePaWW5Oi"
      },
      "execution_count": null,
      "outputs": []
    },
    {
      "cell_type": "code",
      "source": [
        "#11\n",
        "nums=[0,1,2,3,4,5,6,7,8,9]\n",
        "print(nums[0:5])\n",
        "print(nums[0:7:2])\n",
        "print(nums[0:5:2])"
      ],
      "metadata": {
        "colab": {
          "base_uri": "https://localhost:8080/"
        },
        "id": "Dr60kcSmW53a",
        "outputId": "9c58346c-b775-40c7-b22d-1d7c5f78f207"
      },
      "execution_count": 122,
      "outputs": [
        {
          "output_type": "stream",
          "name": "stdout",
          "text": [
            "[0, 1, 2, 3, 4]\n",
            "[0, 2, 4, 6]\n",
            "[0, 2, 4]\n"
          ]
        }
      ]
    },
    {
      "cell_type": "code",
      "source": [
        "#12\n",
        "nums=[0,1,2,3,4,5,6,7,8,9]\n",
        "print(nums[2::1])\n",
        "print(nums[1:10:2])\n",
        "print(nums[0:9:2])"
      ],
      "metadata": {
        "colab": {
          "base_uri": "https://localhost:8080/"
        },
        "id": "MpSMQHc3XRLe",
        "outputId": "760dad92-956b-459a-d890-766aa9175764"
      },
      "execution_count": 69,
      "outputs": [
        {
          "output_type": "stream",
          "name": "stdout",
          "text": [
            "[2, 3, 4, 5, 6, 7, 8, 9]\n",
            "[1, 3, 5, 7, 9]\n",
            "[0, 2, 4, 6, 8]\n"
          ]
        }
      ]
    },
    {
      "cell_type": "code",
      "source": [
        "#13\n",
        "nums=[0,1,2,3,4,5,6,7,8,9]\n",
        "print(nums[2:5])\n",
        "print(nums[1:7])\n",
        "print(nums[0:5])"
      ],
      "metadata": {
        "id": "GoHQQNIcivIt"
      },
      "execution_count": null,
      "outputs": []
    },
    {
      "cell_type": "code",
      "source": [
        "#14\n",
        "fruits=['사과','오렌지','딸기','포도','감','키위','멜론','수박']\n",
        "print(fruits[0])\n",
        "print(fruits[1:4])\n",
        "print(fruits[3:9:1])\n",
        "print(fruits[7])\n",
        "print(fruits[6:8:1])\n",
        "print(fruits[5:8:1])"
      ],
      "metadata": {
        "colab": {
          "base_uri": "https://localhost:8080/"
        },
        "id": "5-XUBUMAXq83",
        "outputId": "a6ceb146-c176-4ac9-9c8b-36cfa53596ac"
      },
      "execution_count": 82,
      "outputs": [
        {
          "output_type": "stream",
          "name": "stdout",
          "text": [
            "사과\n",
            "['오렌지', '딸기', '포도']\n",
            "['포도', '감', '키위', '멜론', '수박']\n",
            "수박\n",
            "['멜론', '수박']\n",
            "['키위', '멜론', '수박']\n"
          ]
        }
      ]
    },
    {
      "cell_type": "code",
      "source": [
        "#15\n",
        "print(list(\"Korea\"))"
      ],
      "metadata": {
        "colab": {
          "base_uri": "https://localhost:8080/"
        },
        "id": "yUAXUKaAYswG",
        "outputId": "efbed1e7-7bc5-4175-ee9f-2a2700876ebc"
      },
      "execution_count": 83,
      "outputs": [
        {
          "output_type": "stream",
          "name": "stdout",
          "text": [
            "['K', 'o', 'r', 'e', 'a']\n"
          ]
        }
      ]
    },
    {
      "cell_type": "code",
      "source": [
        "#16\n",
        "my_list=list(\"PythonIsFun!\")\n",
        "print(my_list)\n",
        "print(my_list[6:13])\n",
        "print(my_list[8:11])\n",
        "print(my_list[0:5])\n",
        "print(my_list[8:13])"
      ],
      "metadata": {
        "colab": {
          "base_uri": "https://localhost:8080/"
        },
        "id": "Vi-SpkepYx1N",
        "outputId": "e57c165c-b20c-4e53-881e-e177963a9de3"
      },
      "execution_count": 88,
      "outputs": [
        {
          "output_type": "stream",
          "name": "stdout",
          "text": [
            "['P', 'y', 't', 'h', 'o', 'n', 'I', 's', 'F', 'u', 'n', '!']\n",
            "['I', 's', 'F', 'u', 'n', '!']\n",
            "['F', 'u', 'n']\n",
            "['P', 'y', 't', 'h', 'o']\n",
            "['F', 'u', 'n', '!']\n"
          ]
        }
      ]
    },
    {
      "cell_type": "code",
      "source": [
        "#17\n",
        "s=\"Python\"\n",
        "print(s[2])\n",
        "print(s[4])\n",
        "print(s[1:4])"
      ],
      "metadata": {
        "colab": {
          "base_uri": "https://localhost:8080/"
        },
        "id": "8Vehult0ZdQp",
        "outputId": "3e6e1e08-d0c1-4ee4-a4e4-c5cc50e0e443"
      },
      "execution_count": 96,
      "outputs": [
        {
          "output_type": "stream",
          "name": "stdout",
          "text": [
            "t\n",
            "o\n",
            "yth\n"
          ]
        }
      ]
    },
    {
      "cell_type": "code",
      "source": [
        "#18\n",
        "file=\"20210505-104830.jpg\"\n",
        "print(\"촬영 날짜: %s월 %s일 \\n\"%(file[4:6],file[6:8]))\n",
        "print(\"촬영 시간: %s시 %s분 \\n\"%(file[9:11],file[11:13]))\n",
        "print(\"확장자:\",end='')\n",
        "print(file[15:19])"
      ],
      "metadata": {
        "colab": {
          "base_uri": "https://localhost:8080/"
        },
        "id": "zTREFO3nZ1Cx",
        "outputId": "86035b83-ffa5-4439-d706-ebe241064732"
      },
      "execution_count": 103,
      "outputs": [
        {
          "output_type": "stream",
          "name": "stdout",
          "text": [
            "촬영 날짜: 05월 05일 \n",
            "\n",
            "촬영 시간: 10시 48분 \n",
            "\n",
            "확장자:.jpg\n"
          ]
        }
      ]
    },
    {
      "cell_type": "code",
      "source": [
        "#19\n",
        "s=\"차종: 코란도C, 제조사:쌍용, 배기량: 1998\"\n",
        "print(s[14:16])"
      ],
      "metadata": {
        "colab": {
          "base_uri": "https://localhost:8080/"
        },
        "id": "9JOkbgQ3bYBG",
        "outputId": "2fc3b20d-2439-4984-c560-9c37beaf9ca7"
      },
      "execution_count": 104,
      "outputs": [
        {
          "output_type": "stream",
          "name": "stdout",
          "text": [
            "쌍용\n"
          ]
        }
      ]
    },
    {
      "cell_type": "code",
      "source": [
        "#20\n",
        "jumin=\"901231-1914983\"\n",
        "year=jumin[0:2:1]\n",
        "if jumin[7]==\"2\":\n",
        "  gender=\"여자\"\n",
        "else:\n",
        "  gender=\"남자\"\n",
        "print(\"{}년생 {}입니다.\".format(year,gender))"
      ],
      "metadata": {
        "colab": {
          "base_uri": "https://localhost:8080/"
        },
        "id": "ttEhR7wBbopg",
        "outputId": "b99831f0-dcd4-4867-812f-9a200745cc51"
      },
      "execution_count": 130,
      "outputs": [
        {
          "output_type": "stream",
          "name": "stdout",
          "text": [
            "90년생 남자입니다.\n"
          ]
        }
      ]
    },
    {
      "cell_type": "code",
      "source": [
        "print(list(\"서울로봇고\"))\n",
        "print(\"서울로봇고\")"
      ],
      "metadata": {
        "colab": {
          "base_uri": "https://localhost:8080/"
        },
        "id": "mQY5yhQ9PH8b",
        "outputId": "3b524520-261a-4a92-8da4-49408951169a"
      },
      "execution_count": 14,
      "outputs": [
        {
          "output_type": "stream",
          "name": "stdout",
          "text": [
            "서울로봇고\n"
          ]
        }
      ]
    },
    {
      "cell_type": "code",
      "source": [
        "#21\n",
        "nums=[1,2,3,4]\n",
        "nums.append(5)\n",
        "print(nums)\n",
        "\n",
        "nums.insert(2, 99)\n",
        "print(nums)"
      ],
      "metadata": {
        "colab": {
          "base_uri": "https://localhost:8080/"
        },
        "id": "M4x-pnJ5mKtL",
        "outputId": "3c3fe4d0-0a31-4f0c-e2ef-856daf9eccc3"
      },
      "execution_count": 133,
      "outputs": [
        {
          "output_type": "stream",
          "name": "stdout",
          "text": [
            "[1, 2, 3, 4, 5]\n",
            "[1, 2, 99, 3, 4, 5]\n"
          ]
        }
      ]
    },
    {
      "cell_type": "code",
      "source": [
        "#22\n",
        "list1=[1,2,3,4,5]\n",
        "list2=[10,11]\n",
        "list1.extend(list2)\n",
        "print(list1)"
      ],
      "metadata": {
        "colab": {
          "base_uri": "https://localhost:8080/"
        },
        "id": "6l2-bd7Zm3ZE",
        "outputId": "790ec613-2663-4abc-c43c-be732896cd6e"
      },
      "execution_count": 134,
      "outputs": [
        {
          "output_type": "stream",
          "name": "stdout",
          "text": [
            "[1, 2, 3, 4, 5, 10, 11]\n"
          ]
        }
      ]
    },
    {
      "cell_type": "markdown",
      "source": [
        "\n"
      ],
      "metadata": {
        "id": "oHZu8CgCnHmm"
      }
    },
    {
      "cell_type": "code",
      "source": [
        "#23\n",
        "score=[88,95,70,100,99]\n",
        "print(\"100의 위치: \",score.index(100)+1)\n",
        "print(score.pop())\n",
        "print(score.pop(3))\n",
        "print(score.pop(1))\n",
        "print(score)"
      ],
      "metadata": {
        "id": "oBoGT89xoTNE"
      },
      "execution_count": null,
      "outputs": []
    },
    {
      "cell_type": "code",
      "source": [
        "#24\n",
        "score=[88,95,70,100,99]\n",
        "score.remove(99)\n",
        "print(score)\n",
        "score.sort()\n",
        "print(score)\n",
        "score.reverse()\n",
        "print(score)\n",
        "score.clear()\n",
        "print(score)\n"
      ],
      "metadata": {
        "colab": {
          "base_uri": "https://localhost:8080/"
        },
        "id": "18tKeXQmoOrg",
        "outputId": "50926404-adc1-41f0-90e0-5b80b9eb5d6f"
      },
      "execution_count": 149,
      "outputs": [
        {
          "output_type": "stream",
          "name": "stdout",
          "text": [
            "[88, 95, 70, 100]\n",
            "[70, 88, 95, 100]\n",
            "[100, 95, 88, 70]\n",
            "[]\n"
          ]
        }
      ]
    },
    {
      "cell_type": "markdown",
      "source": [
        "\n"
      ],
      "metadata": {
        "id": "uHnCKoXuoPNO"
      }
    },
    {
      "cell_type": "code",
      "source": [
        "#25\n",
        "list1=['a','bb','c','d','ddd','aaa', 'b','cc','d','aaa','aaa']\n",
        "list1.count('aaa')\n",
        "print(list1.count('aaa'))"
      ],
      "metadata": {
        "colab": {
          "base_uri": "https://localhost:8080/"
        },
        "id": "DoKbP7VNqTJG",
        "outputId": "76ea0cf5-44b5-4c2c-c206-2b0ca1f70767"
      },
      "execution_count": 154,
      "outputs": [
        {
          "output_type": "stream",
          "name": "stdout",
          "text": [
            "3\n"
          ]
        }
      ]
    },
    {
      "cell_type": "code",
      "source": [
        "mylist=['사과','바나나','파인애플']\n",
        "mylist.append('키위')\n",
        "mylist.append('배')\n",
        "for i in mylist:\n",
        "  print(i)"
      ],
      "metadata": {
        "colab": {
          "base_uri": "https://localhost:8080/"
        },
        "id": "-MVG-J44qUcm",
        "outputId": "412ff655-fad1-467f-fb84-5d9973837c4e"
      },
      "execution_count": 162,
      "outputs": [
        {
          "output_type": "stream",
          "name": "stdout",
          "text": [
            "사과\n",
            "바나나\n",
            "파인애플\n",
            "키위\n",
            "배\n"
          ]
        }
      ]
    },
    {
      "cell_type": "code",
      "source": [
        "scores=[]\n",
        "\n",
        "while True:\n",
        "  score=int(input(\"성적을 입력하세요(종료 : -1)\"))\n",
        "  if input(score)==-1:\n",
        "    break\n",
        "print(scores)"
      ],
      "metadata": {
        "colab": {
          "base_uri": "https://localhost:8080/",
          "height": 499
        },
        "id": "woW_c_FbrJWY",
        "outputId": "9b1ff7b7-ecbd-498f-fc5a-f9661c9b51a3"
      },
      "execution_count": 163,
      "outputs": [
        {
          "name": "stdout",
          "output_type": "stream",
          "text": [
            "성적을 입력하세요(종료 : -1)65\n",
            "6576\n",
            "성적을 입력하세요(종료 : -1)45\n",
            "45-1\n",
            "성적을 입력하세요(종료 : -1)-1\n"
          ]
        },
        {
          "output_type": "error",
          "ename": "KeyboardInterrupt",
          "evalue": "ignored",
          "traceback": [
            "\u001b[0;31m---------------------------------------------------------------------------\u001b[0m",
            "\u001b[0;31mKeyboardInterrupt\u001b[0m                         Traceback (most recent call last)",
            "\u001b[0;32m<ipython-input-163-d44609592544>\u001b[0m in \u001b[0;36m<cell line: 3>\u001b[0;34m()\u001b[0m\n\u001b[1;32m      3\u001b[0m \u001b[0;32mwhile\u001b[0m \u001b[0;32mTrue\u001b[0m\u001b[0;34m:\u001b[0m\u001b[0;34m\u001b[0m\u001b[0;34m\u001b[0m\u001b[0m\n\u001b[1;32m      4\u001b[0m   \u001b[0mscore\u001b[0m\u001b[0;34m=\u001b[0m\u001b[0mint\u001b[0m\u001b[0;34m(\u001b[0m\u001b[0minput\u001b[0m\u001b[0;34m(\u001b[0m\u001b[0;34m\"성적을 입력하세요(종료 : -1)\"\u001b[0m\u001b[0;34m)\u001b[0m\u001b[0;34m)\u001b[0m\u001b[0;34m\u001b[0m\u001b[0;34m\u001b[0m\u001b[0m\n\u001b[0;32m----> 5\u001b[0;31m   \u001b[0;32mif\u001b[0m \u001b[0minput\u001b[0m\u001b[0;34m(\u001b[0m\u001b[0mscore\u001b[0m\u001b[0;34m)\u001b[0m\u001b[0;34m==\u001b[0m\u001b[0;34m-\u001b[0m\u001b[0;36m1\u001b[0m\u001b[0;34m:\u001b[0m\u001b[0;34m\u001b[0m\u001b[0;34m\u001b[0m\u001b[0m\n\u001b[0m\u001b[1;32m      6\u001b[0m     \u001b[0;32mbreak\u001b[0m\u001b[0;34m\u001b[0m\u001b[0;34m\u001b[0m\u001b[0m\n\u001b[1;32m      7\u001b[0m \u001b[0mprint\u001b[0m\u001b[0;34m(\u001b[0m\u001b[0mscores\u001b[0m\u001b[0;34m)\u001b[0m\u001b[0;34m\u001b[0m\u001b[0;34m\u001b[0m\u001b[0m\n",
            "\u001b[0;32m/usr/local/lib/python3.10/dist-packages/ipykernel/kernelbase.py\u001b[0m in \u001b[0;36mraw_input\u001b[0;34m(self, prompt)\u001b[0m\n\u001b[1;32m    849\u001b[0m                 \u001b[0;34m\"raw_input was called, but this frontend does not support input requests.\"\u001b[0m\u001b[0;34m\u001b[0m\u001b[0;34m\u001b[0m\u001b[0m\n\u001b[1;32m    850\u001b[0m             )\n\u001b[0;32m--> 851\u001b[0;31m         return self._input_request(str(prompt),\n\u001b[0m\u001b[1;32m    852\u001b[0m             \u001b[0mself\u001b[0m\u001b[0;34m.\u001b[0m\u001b[0m_parent_ident\u001b[0m\u001b[0;34m,\u001b[0m\u001b[0;34m\u001b[0m\u001b[0;34m\u001b[0m\u001b[0m\n\u001b[1;32m    853\u001b[0m             \u001b[0mself\u001b[0m\u001b[0;34m.\u001b[0m\u001b[0m_parent_header\u001b[0m\u001b[0;34m,\u001b[0m\u001b[0;34m\u001b[0m\u001b[0;34m\u001b[0m\u001b[0m\n",
            "\u001b[0;32m/usr/local/lib/python3.10/dist-packages/ipykernel/kernelbase.py\u001b[0m in \u001b[0;36m_input_request\u001b[0;34m(self, prompt, ident, parent, password)\u001b[0m\n\u001b[1;32m    893\u001b[0m             \u001b[0;32mexcept\u001b[0m \u001b[0mKeyboardInterrupt\u001b[0m\u001b[0;34m:\u001b[0m\u001b[0;34m\u001b[0m\u001b[0;34m\u001b[0m\u001b[0m\n\u001b[1;32m    894\u001b[0m                 \u001b[0;31m# re-raise KeyboardInterrupt, to truncate traceback\u001b[0m\u001b[0;34m\u001b[0m\u001b[0;34m\u001b[0m\u001b[0m\n\u001b[0;32m--> 895\u001b[0;31m                 \u001b[0;32mraise\u001b[0m \u001b[0mKeyboardInterrupt\u001b[0m\u001b[0;34m(\u001b[0m\u001b[0;34m\"Interrupted by user\"\u001b[0m\u001b[0;34m)\u001b[0m \u001b[0;32mfrom\u001b[0m \u001b[0;32mNone\u001b[0m\u001b[0;34m\u001b[0m\u001b[0;34m\u001b[0m\u001b[0m\n\u001b[0m\u001b[1;32m    896\u001b[0m             \u001b[0;32mexcept\u001b[0m \u001b[0mException\u001b[0m \u001b[0;32mas\u001b[0m \u001b[0me\u001b[0m\u001b[0;34m:\u001b[0m\u001b[0;34m\u001b[0m\u001b[0;34m\u001b[0m\u001b[0m\n\u001b[1;32m    897\u001b[0m                 \u001b[0mself\u001b[0m\u001b[0;34m.\u001b[0m\u001b[0mlog\u001b[0m\u001b[0;34m.\u001b[0m\u001b[0mwarning\u001b[0m\u001b[0;34m(\u001b[0m\u001b[0;34m\"Invalid Message:\"\u001b[0m\u001b[0;34m,\u001b[0m \u001b[0mexc_info\u001b[0m\u001b[0;34m=\u001b[0m\u001b[0;32mTrue\u001b[0m\u001b[0;34m)\u001b[0m\u001b[0;34m\u001b[0m\u001b[0;34m\u001b[0m\u001b[0m\n",
            "\u001b[0;31mKeyboardInterrupt\u001b[0m: Interrupted by user"
          ]
        }
      ]
    }
  ]
}