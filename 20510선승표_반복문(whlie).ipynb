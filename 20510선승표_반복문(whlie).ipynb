{
  "nbformat": 4,
  "nbformat_minor": 0,
  "metadata": {
    "colab": {
      "provenance": [],
      "authorship_tag": "ABX9TyOrmpt1/aQEsbAH7PCOVPSy",
      "include_colab_link": true
    },
    "kernelspec": {
      "name": "python3",
      "display_name": "Python 3"
    },
    "language_info": {
      "name": "python"
    }
  },
  "cells": [
    {
      "cell_type": "markdown",
      "metadata": {
        "id": "view-in-github",
        "colab_type": "text"
      },
      "source": [
        "<a href=\"https://colab.research.google.com/github/kingwangjjang30/python/blob/main/20510%EC%84%A0%EC%8A%B9%ED%91%9C_%EB%B0%98%EB%B3%B5%EB%AC%B8(whlie).ipynb\" target=\"_parent\"><img src=\"https://colab.research.google.com/assets/colab-badge.svg\" alt=\"Open In Colab\"/></a>"
      ]
    },
    {
      "cell_type": "code",
      "execution_count": 2,
      "metadata": {
        "colab": {
          "base_uri": "https://localhost:8080/"
        },
        "id": "mow51OxGIjgE",
        "outputId": "678da622-bb59-4b7c-c255-454238585d28"
      },
      "outputs": [
        {
          "output_type": "stream",
          "name": "stdout",
          "text": [
            "안녕하세요\n",
            "안녕하세요\n",
            "안녕하세요\n"
          ]
        }
      ],
      "source": [
        "count=0\n",
        "while count<3:\n",
        "  print(\"안녕하세요\")\n",
        "  count+=1"
      ]
    },
    {
      "cell_type": "code",
      "source": [
        "i=1\n",
        "while i<4:\n",
        "  print(\"%d 번 학생의 성적을 처리한다.\"%(i))\n",
        "  i+=1\n",
        "  "
      ],
      "metadata": {
        "colab": {
          "base_uri": "https://localhost:8080/"
        },
        "id": "sLVsWmbLKzGG",
        "outputId": "e0fd9d87-8eb1-48ee-d165-211004476ed2"
      },
      "execution_count": 4,
      "outputs": [
        {
          "output_type": "stream",
          "name": "stdout",
          "text": [
            "1 번 학생의 성적을 처리한다.\n",
            "2 번 학생의 성적을 처리한다.\n",
            "3 번 학생의 성적을 처리한다.\n"
          ]
        }
      ]
    },
    {
      "cell_type": "code",
      "source": [
        "a=int(input(\"원하는 단은? \"))\n",
        "i=1\n",
        "while i<=9:\n",
        "  print(\" %d * %d = %d\"%(a,i,a*i)) \n",
        "  i+=1"
      ],
      "metadata": {
        "colab": {
          "base_uri": "https://localhost:8080/"
        },
        "id": "ohTJ3IxtLICG",
        "outputId": "364a19b4-cd77-467c-fa1e-949650879b50"
      },
      "execution_count": 7,
      "outputs": [
        {
          "output_type": "stream",
          "name": "stdout",
          "text": [
            "원하는 단은? 3\n",
            " 3 * 1 = 3\n",
            " 3 * 2 = 6\n",
            " 3 * 3 = 9\n",
            " 3 * 4 = 12\n",
            " 3 * 5 = 15\n",
            " 3 * 6 = 18\n",
            " 3 * 7 = 21\n",
            " 3 * 8 = 24\n",
            " 3 * 9 = 27\n"
          ]
        }
      ]
    },
    {
      "cell_type": "code",
      "source": [
        "i=0\n",
        "sum=0\n",
        "while i<=10:\n",
        "  sum+=i\n",
        "  i+=1\n",
        "print(sum)"
      ],
      "metadata": {
        "colab": {
          "base_uri": "https://localhost:8080/"
        },
        "id": "Gz5uJUMwMaOO",
        "outputId": "c1ad295c-6677-48ae-96a6-72fffad293e8"
      },
      "execution_count": 9,
      "outputs": [
        {
          "output_type": "stream",
          "name": "stdout",
          "text": [
            "55\n"
          ]
        }
      ]
    },
    {
      "cell_type": "code",
      "source": [
        "a=150\n",
        "sum=0\n",
        "while a<=300:\n",
        "  if a%2==1:\n",
        "    sum+=a\n",
        "  a+=1\n",
        "print(sum)"
      ],
      "metadata": {
        "colab": {
          "base_uri": "https://localhost:8080/"
        },
        "id": "K-m15j1QM1mu",
        "outputId": "d783cddb-2e1c-4dc8-816f-367846f4458a"
      },
      "execution_count": 11,
      "outputs": [
        {
          "output_type": "stream",
          "name": "stdout",
          "text": [
            "16875\n"
          ]
        }
      ]
    },
    {
      "cell_type": "code",
      "source": [
        "print('-'*15)\n",
        "print(' 섭씨    화씨')\n",
        "print('-'*15)\n",
        "c=-5\n",
        "while c<=5:\n",
        "  f=c*9.0/5.0+32.0\n",
        "  print(\"%5d %5.1f\"%(c,f))\n",
        "  c+=1\n",
        "print('-'*15)"
      ],
      "metadata": {
        "colab": {
          "base_uri": "https://localhost:8080/"
        },
        "id": "K4ESvI1FNXy-",
        "outputId": "19fd61a0-2778-472b-e34c-e011991e57dd"
      },
      "execution_count": 14,
      "outputs": [
        {
          "output_type": "stream",
          "name": "stdout",
          "text": [
            "---------------\n",
            " 섭씨    화씨\n",
            "---------------\n",
            "   -5  23.0\n",
            "   -4  24.8\n",
            "   -3  26.6\n",
            "   -2  28.4\n",
            "   -1  30.2\n",
            "    0  32.0\n",
            "    1  33.8\n",
            "    2  35.6\n",
            "    3  37.4\n",
            "    4  39.2\n",
            "    5  41.0\n",
            "---------------\n"
          ]
        }
      ]
    },
    {
      "cell_type": "code",
      "source": [
        "a=10\n",
        "f=1\n",
        "while a>0:\n",
        "  f*=a\n",
        "  a-=1\n",
        "print(f)"
      ],
      "metadata": {
        "colab": {
          "base_uri": "https://localhost:8080/"
        },
        "id": "B0yWQS5vOTv2",
        "outputId": "282372e0-e9d8-499d-94e2-f5cb7ecb2d7e"
      },
      "execution_count": 18,
      "outputs": [
        {
          "output_type": "stream",
          "name": "stdout",
          "text": [
            "3628800\n"
          ]
        }
      ]
    },
    {
      "cell_type": "code",
      "source": [
        "i=1\n",
        "while i<=20:\n",
        "  if i%2==0:\n",
        "    print(i,end=' ')\n",
        "  i+=1"
      ],
      "metadata": {
        "colab": {
          "base_uri": "https://localhost:8080/"
        },
        "id": "9iQz0F61PER-",
        "outputId": "6acb2b49-c937-4de8-ea69-dd478c05890d"
      },
      "execution_count": 24,
      "outputs": [
        {
          "output_type": "stream",
          "name": "stdout",
          "text": [
            "2 4 6 8 10 12 14 16 18 20 "
          ]
        }
      ]
    },
    {
      "cell_type": "code",
      "source": [
        "i=10\n",
        "while i<=50:\n",
        "  if i%3!=0:\n",
        "    print(i,end=' ')\n",
        "  i+=1\n"
      ],
      "metadata": {
        "colab": {
          "base_uri": "https://localhost:8080/"
        },
        "id": "1mzlBG3qPtNA",
        "outputId": "8916173a-f474-4f7f-d849-1e81610ce5ac"
      },
      "execution_count": 27,
      "outputs": [
        {
          "output_type": "stream",
          "name": "stdout",
          "text": [
            "10 11 13 14 16 17 19 20 22 23 25 26 28 29 31 32 34 35 37 38 40 41 43 44 46 47 49 50 "
          ]
        }
      ]
    },
    {
      "cell_type": "code",
      "source": [
        "pw=''\n",
        "while pw!='python':\n",
        "  pw=input('암호 입력 : ')\n",
        "print(\"로그인 성공\")"
      ],
      "metadata": {
        "colab": {
          "base_uri": "https://localhost:8080/"
        },
        "id": "1VBwBCJ6QLOO",
        "outputId": "9b7fa42a-c708-4384-84ce-4637d6ba2cda"
      },
      "execution_count": 28,
      "outputs": [
        {
          "output_type": "stream",
          "name": "stdout",
          "text": [
            "암호 입력 : java\n",
            "암호 입력 : c\n",
            "암호 입력 : c#\n",
            "암호 입력 : python\n",
            "로그인 성공\n"
          ]
        }
      ]
    },
    {
      "cell_type": "code",
      "source": [
        "import random\n",
        "cnt=0\n",
        "guess=0\n",
        "answer=random.randint(1,100)\n",
        "\n",
        "print('1부터 100사이의 숫자를 맞추기')\n",
        "\n",
        "while guess!=answer:\n",
        "  guess=int(input('숫자를 맞춰 보세요 : '))\n",
        "  cnt+=\n",
        "  if guess<answer:\n",
        "    print('높음')\n",
        "  elif guess>answer:\n",
        "    print('낮음')\n",
        "print('축하합니다.','시도횟수 = %d'%(cnt))"
      ],
      "metadata": {
        "colab": {
          "base_uri": "https://localhost:8080/"
        },
        "id": "I4tjYIrmQnlH",
        "outputId": "88e37193-c884-4b9e-d546-d2dcdec845de"
      },
      "execution_count": 29,
      "outputs": [
        {
          "output_type": "stream",
          "name": "stdout",
          "text": [
            "1부터 100사이의 숫자를 맞추기\n",
            "숫자를 맞춰 보세요 : 34\n",
            "낮음\n",
            "숫자를 맞춰 보세요 : 45\n",
            "낮음\n",
            "숫자를 맞춰 보세요 : 11\n",
            "낮음\n",
            "숫자를 맞춰 보세요 : 4\n",
            "높음\n",
            "숫자를 맞춰 보세요 : 5\n",
            "높음\n",
            "숫자를 맞춰 보세요 : 6\n",
            "높음\n",
            "숫자를 맞춰 보세요 : 7\n",
            "높음\n",
            "숫자를 맞춰 보세요 : 8\n",
            "축하합니다. 시도횟수 = 800\n"
          ]
        }
      ]
    },
    {
      "cell_type": "code",
      "source": [],
      "metadata": {
        "id": "B-lGa7IyRl8u"
      },
      "execution_count": null,
      "outputs": []
    }
  ]
}