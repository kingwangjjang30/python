{
  "nbformat": 4,
  "nbformat_minor": 0,
  "metadata": {
    "colab": {
      "provenance": []
    },
    "kernelspec": {
      "name": "python3",
      "display_name": "Python 3"
    },
    "language_info": {
      "name": "python"
    }
  },
  "cells": [
    {
      "cell_type": "code",
      "execution_count": 9,
      "metadata": {
        "colab": {
          "base_uri": "https://localhost:8080/"
        },
        "id": "rpTqC1aot-4a",
        "outputId": "ee7f0b8c-e9fa-4e19-9aaa-758c29904821"
      },
      "outputs": [
        {
          "output_type": "stream",
          "name": "stdout",
          "text": [
            "체중을 입력하세요: 88\n",
            "키를 입력하세요(m): 1.8\n",
            "당신의 bmi지수는 27.160494 이며 비만입니다.\n"
          ]
        }
      ],
      "source": [
        "w=int(input(\"체중을 입력하세요: \"))\n",
        "h=float(input(\"키를 입력하세요(m): \"))\n",
        "b=w/h**2\n",
        "if 0<=b<=15:\n",
        "  s=\"정상\"\n",
        "elif 16<=b<=25:\n",
        "  s=\"과체중\"\n",
        "elif b>25:\n",
        "  s=\"비만\"\n",
        "print(\"당신의 bmi지수는 %f 이며 %s입니다.\"%(b,s))"
      ]
    },
    {
      "cell_type": "code",
      "source": [],
      "metadata": {
        "id": "y44ZxqJQ6Rz0"
      },
      "execution_count": null,
      "outputs": []
    },
    {
      "cell_type": "code",
      "source": [
        "w=int(input(\"체중을 입력하세요: \"))\n",
        "h=int(input(\"키를 입력하세요(cm): \"))\n",
        "y=int(input(\"나이를 입력하세요: \"))\n",
        "s=input(\"성별을 입력하세요: 남자/여자 \")\n",
        "if s==\"남자\":\n",
        "  a=66.47+(13.75*w)+(5*h)-(6.76*y)\n",
        "  print(\"당신의 기초대사량은 %f 입니다.\"%(a))\n",
        "elif s==\"여자\":\n",
        "  b=655.1+(9.56*w)+(1.85*h)-(4.68*y)\n",
        "  print(\"당신의 기초대사량은 %f 입니다.\"%(b)\n"
      ],
      "metadata": {
        "colab": {
          "base_uri": "https://localhost:8080/",
          "height": 137
        },
        "id": "b2mo707Wyc5c",
        "outputId": "d80ff423-baf8-48a8-9741-0fbab998e9b7"
      },
      "execution_count": 11,
      "outputs": [
        {
          "output_type": "error",
          "ename": "SyntaxError",
          "evalue": "ignored",
          "traceback": [
            "\u001b[0;36m  File \u001b[0;32m\"<ipython-input-11-f928dd67ad47>\"\u001b[0;36m, line \u001b[0;32m10\u001b[0m\n\u001b[0;31m    print(\"당신의 기초대사량은 %f 입니다.\"%(round(b,13))\u001b[0m\n\u001b[0m                                            ^\u001b[0m\n\u001b[0;31mSyntaxError\u001b[0m\u001b[0;31m:\u001b[0m unexpected EOF while parsing\n"
          ]
        }
      ]
    },
    {
      "cell_type": "code",
      "source": [
        "id=input(\"아이디를 입력하세요: \")\n",
        "l=int(input(\"회원 레벨을 입력해 주세요 : \"))\n",
        "if id==\"userid\"\"admin\":\n",
        "  if l>0:\n",
        "    print(\"모든 콘텐츠 이용 가능\")\n",
        "elif 2<=l<=7:\n",
        "  print(\"일부 콘텐츠 이용 가능\")"
      ],
      "metadata": {
        "colab": {
          "base_uri": "https://localhost:8080/"
        },
        "id": "LpWOvZil0iP0",
        "outputId": "f2899a40-203b-48ab-c163-95651bb8afcc"
      },
      "execution_count": 13,
      "outputs": [
        {
          "output_type": "stream",
          "name": "stdout",
          "text": [
            "아이디를 입력하세요: admin\n",
            "회원 레벨을 입력해 주세요 : 3\n",
            "일부 콘텐츠 이용 가능\n"
          ]
        }
      ]
    },
    {
      "cell_type": "code",
      "source": [
        "a=int(input(\"현재년을 입력해 주세요 : \"))\n",
        "b=int(input(\"현재월을 입력해 주세요 : \"))\n",
        "c=int(input(\"현재일을 입력해 주세요 : \"))\n",
        "d=int(input(\"출생년을 입력해 주세요 : \"))\n",
        "e=int(input(\"출생월을 입력해 주세요 : \"))\n",
        "f=int(input(\"출생일을 입력해 주세요 : \"))\n",
        "print('--------------------')\n",
        "if e<b:\n",
        "  y=a-d\n",
        "elif e==b:\n",
        "  if c<f:\n",
        "    y=a-d\n",
        "  if c>f:\n",
        "    y=a-d-1\n",
        "else:\n",
        "  y=a-d-1\n",
        "\n",
        "print('--------------------')\n",
        "print(\"오늘 날짜 : %d년 %d월 %d일\"%(a,b,c))\n",
        "print(\"출생 날짜 : %d년 %d월 %d일\"%(d,e,f))\n",
        "print('--------------------')\n",
        "print(\"만 나이 : %d세\"%(y))"
      ],
      "metadata": {
        "colab": {
          "base_uri": "https://localhost:8080/"
        },
        "id": "gRPmk5t81n-t",
        "outputId": "501d259b-21e8-49c2-b65e-08d1070da5bb"
      },
      "execution_count": 19,
      "outputs": [
        {
          "output_type": "stream",
          "name": "stdout",
          "text": [
            "현재년을 입력해 주세요 : 2020\n",
            "현재월을 입력해 주세요 : 1\n",
            "현재일을 입력해 주세요 : 27\n",
            "출생년을 입력해 주세요 : 1997\n",
            "출생월을 입력해 주세요 : 5\n",
            "출생일을 입력해 주세요 : 7\n",
            "--------------------\n",
            "--------------------\n",
            "오늘 날짜 : 2020년 1월 27일\n",
            "출생 날짜 : 1997년 5월 7일\n",
            "--------------------\n",
            "만 나이 : 22세\n"
          ]
        }
      ]
    },
    {
      "cell_type": "code",
      "source": [
        "from IPython.core.history import datetime\n",
        "import datetime\n",
        "now =datetime.datetime.now()\n",
        "print(now)\n",
        "print(now.year)\n",
        "print(now.month)\n",
        "print(now.day)\n",
        "print(now.hour)\n",
        "print(now.minute)\n",
        "print(now.second)"
      ],
      "metadata": {
        "colab": {
          "base_uri": "https://localhost:8080/"
        },
        "id": "BIYnc3IU3e0t",
        "outputId": "84a480c3-36ba-4a1f-cc15-57371f736869"
      },
      "execution_count": 21,
      "outputs": [
        {
          "output_type": "stream",
          "name": "stdout",
          "text": [
            "2023-03-23 00:43:57.406159\n",
            "2023\n",
            "3\n",
            "23\n",
            "0\n",
            "43\n",
            "57\n"
          ]
        }
      ]
    },
    {
      "cell_type": "code",
      "source": [
        "import datetime\n",
        "now=datetime.datetime.now()\n",
        "a=now.hour\n",
        "b=now.minute\n",
        "if a<12:\n",
        "  s=\"오전\"\n",
        "else:\n",
        "  s=\"오후\"\n",
        "print(\"현재시간은 %d시 %d분으로 %s입니다.\"%(a,b,s))"
      ],
      "metadata": {
        "colab": {
          "base_uri": "https://localhost:8080/"
        },
        "id": "-6Fn2HS77ONd",
        "outputId": "ef9a90ab-4e3c-4ae5-c173-e955d69741b7"
      },
      "execution_count": 24,
      "outputs": [
        {
          "output_type": "stream",
          "name": "stdout",
          "text": [
            "현재시간은 0시 54분으로 오전입니다.\n"
          ]
        }
      ]
    },
    {
      "cell_type": "code",
      "source": [
        "from IPython.lib.pretty import datetime\n",
        "import datetime\n",
        "now=datetime.datetime.now()\n",
        "a=now.month\n",
        "if 3<=a<=5:\n",
        "  s=\"봄\"\n",
        "elif 6<=a<=8:\n",
        "  s=\"여름\"\n",
        "elif 9<=a<=11:\n",
        "  s=\"가을\"\n",
        "else:\n",
        "  s=\"겨울\"\n",
        "print(\"이번 달은 %d월로 %s입니다!\"%(a,s))"
      ],
      "metadata": {
        "colab": {
          "base_uri": "https://localhost:8080/"
        },
        "id": "gDKxAE989cDd",
        "outputId": "9e152a06-37b3-456d-9c57-1cf6863bac0c"
      },
      "execution_count": 26,
      "outputs": [
        {
          "output_type": "stream",
          "name": "stdout",
          "text": [
            "이번 달은 3월로 봄입니다!\n"
          ]
        }
      ]
    },
    {
      "cell_type": "code",
      "source": [
        "import random\n",
        "print(random.random())\n",
        "print(random.randrange(1,7))\n",
        "print(random.randint(1,6))\n",
        "print(random.choice([10,20,30]))"
      ],
      "metadata": {
        "colab": {
          "base_uri": "https://localhost:8080/"
        },
        "id": "lO2lKIG3-vNG",
        "outputId": "b2686fbc-8a0d-484c-df62-7c20250ccc12"
      },
      "execution_count": 29,
      "outputs": [
        {
          "output_type": "stream",
          "name": "stdout",
          "text": [
            "0.988430620712788\n",
            "4\n",
            "3\n",
            "20\n"
          ]
        }
      ]
    },
    {
      "cell_type": "code",
      "source": [
        "import random\n",
        "sunny=random.randrange(1,3)\n",
        "time=random.randrange(0,23)\n",
        "print(\"좋은 아침입니다. 지금 시각은 %d시 입니다.\"%(time))\n",
        "if sunny==1:\n",
        "  print(\"현재 날씨가 화창합니다.\")\n",
        "elif sunny==2:\n",
        "  print(\"현재 날씨가 화창하지 않습니다.\")\n",
        "if 6<=time<=8:\n",
        "  print(\"종달새가 노래를 합니다.\")\n",
        "else:\n",
        "  print(\"종달새가 노래를 하지 않는다.\")"
      ],
      "metadata": {
        "colab": {
          "base_uri": "https://localhost:8080/"
        },
        "id": "4w3HIMd0_GHO",
        "outputId": "e50278e4-9d5d-48e3-c8e1-158159136640"
      },
      "execution_count": 37,
      "outputs": [
        {
          "output_type": "stream",
          "name": "stdout",
          "text": [
            "좋은 아침입니다. 지금 시각은 17시 입니다.\n",
            "현재 날씨가 화창하지 않습니다.\n",
            "종달새가 노래를 하지 않는다.\n"
          ]
        }
      ]
    },
    {
      "cell_type": "code",
      "source": [
        "userid=input('아이디를 입력하세요: ')\n",
        "if userid=='admin':\n",
        "  print(\"모든 콘텐츠 이용 가능\")\n",
        "else:\n",
        "  level=int(input('회원레벨을 입력해 주세요 : '))\n",
        "\n",
        "  if level>=2 and level<=7:\n",
        "    print('일부 콘텐츠 이용 가능')\n",
        "  else:\n",
        "    print('콘텐츠 이용 불가')"
      ],
      "metadata": {
        "colab": {
          "base_uri": "https://localhost:8080/"
        },
        "id": "h5gBEd0gBG8E",
        "outputId": "cf910414-d739-45d8-f7e5-609324228481"
      },
      "execution_count": 43,
      "outputs": [
        {
          "output_type": "stream",
          "name": "stdout",
          "text": [
            "아이디를 입력하세요: rubato\n",
            "회원레벨을 입력해 주세요 : 3\n",
            "일부 콘텐츠 이용 가능\n"
          ]
        }
      ]
    },
    {
      "cell_type": "code",
      "source": [],
      "metadata": {
        "id": "l678laJhFfbe"
      },
      "execution_count": null,
      "outputs": []
    }
  ]
}