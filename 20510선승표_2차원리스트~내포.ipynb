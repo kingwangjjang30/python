{
  "nbformat": 4,
  "nbformat_minor": 0,
  "metadata": {
    "colab": {
      "provenance": []
    },
    "kernelspec": {
      "name": "python3",
      "display_name": "Python 3"
    },
    "language_info": {
      "name": "python"
    }
  },
  "cells": [
    {
      "cell_type": "code",
      "execution_count": null,
      "metadata": {
        "colab": {
          "base_uri": "https://localhost:8080/"
        },
        "id": "ik2s-j2jM-YV",
        "outputId": "74629c7f-e0b1-46d1-f42a-8ecbd49a50ce"
      },
      "outputs": [
        {
          "output_type": "execute_result",
          "data": {
            "text/plain": [
              "[[10, 20, 30], [40, 50, 60]]"
            ]
          },
          "metadata": {},
          "execution_count": 7
        }
      ],
      "source": [
        "#p28_39\n",
        "numbers=[[10,20,30],[40,50,60]]\n",
        "numbers"
      ]
    },
    {
      "cell_type": "code",
      "source": [
        "print(numbers[0])\n",
        "print(numbers[1])\n"
      ],
      "metadata": {
        "colab": {
          "base_uri": "https://localhost:8080/"
        },
        "id": "uoyJ1a87QO7C",
        "outputId": "64aab7f9-6fc6-4678-a4ee-3d7bb86f312e"
      },
      "execution_count": null,
      "outputs": [
        {
          "output_type": "stream",
          "name": "stdout",
          "text": [
            "[10, 20, 30]\n",
            "[40, 50, 60]\n"
          ]
        }
      ]
    },
    {
      "cell_type": "code",
      "source": [
        "print(numbers[0][1])\n",
        "print(numbers[1][0])\n"
      ],
      "metadata": {
        "colab": {
          "base_uri": "https://localhost:8080/"
        },
        "id": "a2qmqiHrQQSB",
        "outputId": "a823a051-c6a9-4f7b-bb7a-d9b3ba8f21da"
      },
      "execution_count": null,
      "outputs": [
        {
          "output_type": "stream",
          "name": "stdout",
          "text": [
            "20\n",
            "40\n"
          ]
        }
      ]
    },
    {
      "cell_type": "code",
      "source": [
        "#40,41\n",
        "numbers=[[10,20,30],[40,50,60,70,80]]\n",
        "for sub in numbers:\n",
        "  for s in sub:\n",
        "    print(s,end=' ')\n",
        "  print( )"
      ],
      "metadata": {
        "colab": {
          "base_uri": "https://localhost:8080/"
        },
        "id": "Rf6ffwziQoDq",
        "outputId": "4ace4b6f-829c-415b-cee1-29441852332b"
      },
      "execution_count": null,
      "outputs": [
        {
          "output_type": "stream",
          "name": "stdout",
          "text": [
            "10 20 30 \n",
            "40 50 60 70 80 \n"
          ]
        }
      ]
    },
    {
      "cell_type": "code",
      "source": [
        "#42\n",
        "data=[[10,20],[30,40],[50,60],[70,80]]\n",
        "\n",
        "for i in range(len(data)):\n",
        "  for j in range(len(data[i])):\n",
        "    print(\"data[%d][%d] = %d\"%(i,j,data[i][j]))\n"
      ],
      "metadata": {
        "colab": {
          "base_uri": "https://localhost:8080/"
        },
        "id": "kaupntMERdRF",
        "outputId": "496b83ab-1a28-430b-adb7-9d39303694c5"
      },
      "execution_count": null,
      "outputs": [
        {
          "output_type": "stream",
          "name": "stdout",
          "text": [
            "data[0][0] = 10\n",
            "data[0][1] = 20\n",
            "data[1][0] = 30\n",
            "data[1][1] = 40\n",
            "data[2][0] = 50\n",
            "data[2][1] = 60\n",
            "data[3][0] = 70\n",
            "data[3][1] = 80\n"
          ]
        }
      ]
    },
    {
      "cell_type": "code",
      "source": [
        "#43\n",
        "string=[[\"원두커피\",\"라떼\",\"콜라\"],[\"우동\",\"국수\",\"피자\",\"파스타\"]]\n",
        "\n",
        "for i in range(len(string)):\n",
        "  for j in range(len(string[i])):\n",
        "    print(\"%s\"%string[i][j],end=' ')\n",
        "  print( )"
      ],
      "metadata": {
        "colab": {
          "base_uri": "https://localhost:8080/"
        },
        "id": "wd8yEcx0SxiS",
        "outputId": "b9bb09f9-7ec9-43ec-99b6-6a10ad4d9fac"
      },
      "execution_count": null,
      "outputs": [
        {
          "output_type": "stream",
          "name": "stdout",
          "text": [
            "원두커피 라떼 콜라 \n",
            "우동 국수 피자 파스타 \n"
          ]
        }
      ]
    },
    {
      "cell_type": "code",
      "source": [
        "#44\n",
        "data=[[10,20,30],[40,50],[60,70,80,90]]\n",
        "print(data)\n",
        "for i in range(len(data)):\n",
        "  print(\"%d\"%data[i][0])\n",
        "  "
      ],
      "metadata": {
        "colab": {
          "base_uri": "https://localhost:8080/"
        },
        "id": "yYxInA57VITG",
        "outputId": "e1e43fd3-884a-4420-8a0b-facea30df75c"
      },
      "execution_count": 31,
      "outputs": [
        {
          "output_type": "stream",
          "name": "stdout",
          "text": [
            "[[10, 20, 30], [40, 50], [60, 70, 80, 90]]\n",
            "10\n",
            "40\n",
            "60\n"
          ]
        }
      ]
    },
    {
      "cell_type": "code",
      "source": [
        "#45\n",
        "score=[[88,76,92,98],[65,70,58,82],[82,80,78,88]]\n",
        "total = 0\n",
        "totalsub=0\n",
        "for stu in score:\n",
        "  sum=0\n",
        "  for s in stu:\n",
        "    sum+=s\n",
        "  subjects=len(stu)\n",
        "  print(\"총점 : \",sum, \"평균 : \",sum/subjects)\n",
        "  total+=sum\n",
        "  totalsub+=subjects\n",
        "print(\"전체 평균 : \",total/totalsub)\n"
      ],
      "metadata": {
        "id": "VIz8G49kWPYN",
        "colab": {
          "base_uri": "https://localhost:8080/"
        },
        "outputId": "3f4c85a7-b2bb-4bc8-cebd-181811ee2637"
      },
      "execution_count": 54,
      "outputs": [
        {
          "output_type": "stream",
          "name": "stdout",
          "text": [
            "총점 :  354 평균 :  88.5\n",
            "총점 :  275 평균 :  68.75\n",
            "총점 :  328 평균 :  82.0\n",
            "전체 평균 :  79.75\n"
          ]
        }
      ]
    },
    {
      "cell_type": "code",
      "source": [
        "#46\n",
        "seats=[[0,0,0,0,0,0,0,0,0,0],\\\n",
        "       [0,0,0,0,0,0,0,0,0,0],\\\n",
        "       [0,0,0,0,0,0,0,0,0,0],\\\n",
        "       [1,1,1,0,0,0,0,0,1,0],\\\n",
        "       [0,0,0,0,0,1,0,0,0,0],\\\n",
        "       [0,1,0,0,0,1,0,1,0,0],\\\n",
        "       [0,0,0,0,0,0,1,0,0,0],\\\n",
        "       [1,0,1,0,0,0,0,0,0,0]]\n",
        "\n",
        "for i in range(len(seats)):\n",
        "  for j in range(len(seats[i])):\n",
        "    if seats[i][j]==0:\n",
        "      print('%3s'%'□',end='')\n",
        "    else:\n",
        "      print('%3s'%'■',end='')\n",
        "  print()"
      ],
      "metadata": {
        "colab": {
          "base_uri": "https://localhost:8080/"
        },
        "id": "Sl5OMhNNiDN3",
        "outputId": "fa207318-5b5f-4740-b6a4-105f84a934fd"
      },
      "execution_count": 37,
      "outputs": [
        {
          "output_type": "stream",
          "name": "stdout",
          "text": [
            "  □  □  □  □  □  □  □  □  □  □\n",
            "  □  □  □  □  □  □  □  □  □  □\n",
            "  □  □  □  □  □  □  □  □  □  □\n",
            "  ■  ■  ■  □  □  □  □  □  ■  □\n",
            "  □  □  □  □  □  ■  □  □  □  □\n",
            "  □  ■  □  □  □  ■  □  ■  □  □\n",
            "  □  □  □  □  □  □  ■  □  □  □\n",
            "  ■  □  ■  □  □  □  □  □  □  □\n"
          ]
        }
      ]
    },
    {
      "cell_type": "code",
      "source": [
        "#47\n",
        "scores=[[96,84,80],[96,86,76],[76,95,83],[89,96,69],[83,86,79],[85,90,83]]\n",
        "i=0\n",
        "while i < len(scores):\n",
        "  sum=0\n",
        "  j=0\n",
        "  while j<len(scores[i]):\n",
        "    sum+=scores[i][j]\n",
        "    j+=1\n",
        "  avg=sum/len(scores[i])\n",
        "  print(\"%d번째 학생의 합계 : %d, 평균 : %.2f\"%(i+1,sum,avg))\n",
        "  i+=1\n"
      ],
      "metadata": {
        "colab": {
          "base_uri": "https://localhost:8080/"
        },
        "id": "C_p3saRtexMg",
        "outputId": "9e2fcf95-2bb1-47c6-bd3a-2749d03d027c"
      },
      "execution_count": 65,
      "outputs": [
        {
          "output_type": "stream",
          "name": "stdout",
          "text": [
            "1번째 학생의 합계 : 260, 평균 : 86.67\n",
            "2번째 학생의 합계 : 258, 평균 : 86.00\n",
            "3번째 학생의 합계 : 254, 평균 : 84.67\n",
            "4번째 학생의 합계 : 254, 평균 : 84.67\n",
            "5번째 학생의 합계 : 248, 평균 : 82.67\n",
            "6번째 학생의 합계 : 258, 평균 : 86.00\n"
          ]
        }
      ]
    },
    {
      "cell_type": "code",
      "source": [
        "#48\n",
        "scores=[[96,84,80],[96,86,76],[76,95,83],[89,96,69],[83,86,79],[85,90,83]]\n",
        "i=0\n",
        "for i in range(len(scores)):\n",
        "  sum=0\n",
        "  for j in range(len(scores[i])):\n",
        "    sum+=scores[i][j]\n",
        "  avg=sum/len(scores[i])\n",
        "  print(\"%d번째 학생의 합계 : %d, 평균 : %.2f\"%(i+1,sum,avg))\n",
        "  "
      ],
      "metadata": {
        "colab": {
          "base_uri": "https://localhost:8080/"
        },
        "id": "ciRflk0rsluN",
        "outputId": "e6a08f22-bf89-4a21-e139-96e63e01e2dc"
      },
      "execution_count": 68,
      "outputs": [
        {
          "output_type": "stream",
          "name": "stdout",
          "text": [
            "1번째 학생의 합계 : 260, 평균 : 86.67\n",
            "2번째 학생의 합계 : 258, 평균 : 86.00\n",
            "3번째 학생의 합계 : 254, 평균 : 84.67\n",
            "4번째 학생의 합계 : 254, 평균 : 84.67\n",
            "5번째 학생의 합계 : 248, 평균 : 82.67\n",
            "6번째 학생의 합계 : 258, 평균 : 86.00\n"
          ]
        }
      ]
    },
    {
      "cell_type": "code",
      "source": [
        "for i in range(10):\n",
        "  print(i,end=' ')"
      ],
      "metadata": {
        "colab": {
          "base_uri": "https://localhost:8080/"
        },
        "id": "q-rcsxtGomnd",
        "outputId": "ca110f64-809c-4606-9640-213de1662d95"
      },
      "execution_count": 45,
      "outputs": [
        {
          "output_type": "stream",
          "name": "stdout",
          "text": [
            "0123456789"
          ]
        }
      ]
    },
    {
      "cell_type": "code",
      "source": [
        "num=[]\n",
        "for i in range(10):\n",
        "  num.append(i)\n",
        "print(num)"
      ],
      "metadata": {
        "colab": {
          "base_uri": "https://localhost:8080/"
        },
        "id": "qWh7wGNDoxzv",
        "outputId": "d0a34835-e79b-4431-cd69-a3ed1f04e980"
      },
      "execution_count": 46,
      "outputs": [
        {
          "output_type": "stream",
          "name": "stdout",
          "text": [
            "[0, 1, 2, 3, 4, 5, 6, 7, 8, 9]\n"
          ]
        }
      ]
    },
    {
      "cell_type": "code",
      "source": [
        "[i for i in range(10)]"
      ],
      "metadata": {
        "colab": {
          "base_uri": "https://localhost:8080/"
        },
        "id": "btWMzJXHpDCP",
        "outputId": "84c6cddd-2a3a-4023-a1f2-514a39039deb"
      },
      "execution_count": 47,
      "outputs": [
        {
          "output_type": "execute_result",
          "data": {
            "text/plain": [
              "[0, 1, 2, 3, 4, 5, 6, 7, 8, 9]"
            ]
          },
          "metadata": {},
          "execution_count": 47
        }
      ]
    },
    {
      "cell_type": "code",
      "source": [
        "[i*i for i in range(10)]"
      ],
      "metadata": {
        "colab": {
          "base_uri": "https://localhost:8080/"
        },
        "id": "7SjRmViVpTYO",
        "outputId": "525ffa80-64d6-46a4-ca5a-f05bd71d1a0c"
      },
      "execution_count": 48,
      "outputs": [
        {
          "output_type": "execute_result",
          "data": {
            "text/plain": [
              "[0, 1, 4, 9, 16, 25, 36, 49, 64, 81]"
            ]
          },
          "metadata": {},
          "execution_count": 48
        }
      ]
    },
    {
      "cell_type": "code",
      "source": [
        "[i*2 for i in range(10)]"
      ],
      "metadata": {
        "colab": {
          "base_uri": "https://localhost:8080/"
        },
        "id": "KaxcKgy8pZHU",
        "outputId": "f537c553-52bf-4f68-e5d3-e26442d6abd5"
      },
      "execution_count": 49,
      "outputs": [
        {
          "output_type": "execute_result",
          "data": {
            "text/plain": [
              "[0, 2, 4, 6, 8, 10, 12, 14, 16, 18]"
            ]
          },
          "metadata": {},
          "execution_count": 49
        }
      ]
    },
    {
      "cell_type": "code",
      "source": [
        "#50\n",
        "even1=[i for i in range(100) if i%2==0]\n",
        "even2=[i*2 for i in range(0,51)]\n",
        "even3=[i for i in range(0,100,2)]\n",
        "print(even1)\n",
        "print(even2)\n",
        "print(even3)"
      ],
      "metadata": {
        "colab": {
          "base_uri": "https://localhost:8080/"
        },
        "id": "lAhj-67WuLm9",
        "outputId": "e4d8e189-483e-45ee-a7e6-dbff6a38a405"
      },
      "execution_count": 74,
      "outputs": [
        {
          "output_type": "stream",
          "name": "stdout",
          "text": [
            "[0, 2, 4, 6, 8, 10, 12, 14, 16, 18, 20, 22, 24, 26, 28, 30, 32, 34, 36, 38, 40, 42, 44, 46, 48, 50, 52, 54, 56, 58, 60, 62, 64, 66, 68, 70, 72, 74, 76, 78, 80, 82, 84, 86, 88, 90, 92, 94, 96, 98]\n",
            "[0, 2, 4, 6, 8, 10, 12, 14, 16, 18, 20, 22, 24, 26, 28, 30, 32, 34, 36, 38, 40, 42, 44, 46, 48, 50, 52, 54, 56, 58, 60, 62, 64, 66, 68, 70, 72, 74, 76, 78, 80, 82, 84, 86, 88, 90, 92, 94, 96, 98, 100]\n",
            "[0, 2, 4, 6, 8, 10, 12, 14, 16, 18, 20, 22, 24, 26, 28, 30, 32, 34, 36, 38, 40, 42, 44, 46, 48, 50, 52, 54, 56, 58, 60, 62, 64, 66, 68, 70, 72, 74, 76, 78, 80, 82, 84, 86, 88, 90, 92, 94, 96, 98]\n"
          ]
        }
      ]
    },
    {
      "cell_type": "code",
      "source": [
        "#51\n",
        "li=[]\n",
        "for n in range(1,10):\n",
        "  if n%3==0:\n",
        "    li.append(n*n)\n",
        "print(li)"
      ],
      "metadata": {
        "colab": {
          "base_uri": "https://localhost:8080/"
        },
        "id": "uPeD5lZVuis5",
        "outputId": "349f763d-e4a0-49f8-daa4-5a446a7908e3"
      },
      "execution_count": 76,
      "outputs": [
        {
          "output_type": "stream",
          "name": "stdout",
          "text": [
            "[9, 36, 81]\n"
          ]
        }
      ]
    },
    {
      "cell_type": "code",
      "source": [
        "#52\n",
        "numbers=[1,2,3,4,5]\n",
        "result=[]\n",
        "result=[n*2 for n in numbers if n%2==1]\n",
        "print(result)"
      ],
      "metadata": {
        "colab": {
          "base_uri": "https://localhost:8080/"
        },
        "id": "ZGLeQSckvHov",
        "outputId": "44f4185d-3641-4fe8-bf8d-13caf2891f69"
      },
      "execution_count": 82,
      "outputs": [
        {
          "output_type": "stream",
          "name": "stdout",
          "text": [
            "[2, 6, 10]\n"
          ]
        }
      ]
    },
    {
      "cell_type": "code",
      "source": [
        "#ex1\n",
        "v=[17,92,18,33,58,7,33,42]\n",
        "max=v[0]\n",
        "\n",
        "for i in range(len(v)):\n",
        "  if v[i]>max:\n",
        "    max=v[i]\n",
        "print(\"최대값 = \",max)"
      ],
      "metadata": {
        "colab": {
          "base_uri": "https://localhost:8080/"
        },
        "id": "3ASOHCfWvonm",
        "outputId": "121b8682-0bf9-4df7-ba81-c38e79446896"
      },
      "execution_count": 87,
      "outputs": [
        {
          "output_type": "stream",
          "name": "stdout",
          "text": [
            "최대값 =  92\n"
          ]
        }
      ]
    },
    {
      "cell_type": "code",
      "source": [
        "#ex2\n",
        "for i in [1,2,3]:\n",
        "  for j in ['a','b','c']:\n",
        "    print(i*j,end=' ')"
      ],
      "metadata": {
        "colab": {
          "base_uri": "https://localhost:8080/"
        },
        "id": "JRQI5x5mwJq7",
        "outputId": "bea859f9-2fb0-4e86-c5b3-e0b30de7c4ce"
      },
      "execution_count": 89,
      "outputs": [
        {
          "output_type": "stream",
          "name": "stdout",
          "text": [
            "a b c aa bb cc aaa bbb ccc "
          ]
        }
      ]
    },
    {
      "cell_type": "code",
      "source": [
        "#ex3\n",
        "list_a=[\"i\",\"study\",\"python\",\"language\",\"!\"]\n",
        "for i in list_a:\n",
        "  if len(i)>3:\n",
        "    print(i)"
      ],
      "metadata": {
        "colab": {
          "base_uri": "https://localhost:8080/"
        },
        "id": "f0f-LIjYwstT",
        "outputId": "ae945481-901c-4b2b-b574-7d25324379a2"
      },
      "execution_count": 90,
      "outputs": [
        {
          "output_type": "stream",
          "name": "stdout",
          "text": [
            "study\n",
            "python\n",
            "language\n"
          ]
        }
      ]
    }
  ]
}