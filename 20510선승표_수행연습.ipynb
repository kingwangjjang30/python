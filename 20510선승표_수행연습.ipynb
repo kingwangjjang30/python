{
  "nbformat": 4,
  "nbformat_minor": 0,
  "metadata": {
    "colab": {
      "provenance": []
    },
    "kernelspec": {
      "name": "python3",
      "display_name": "Python 3"
    },
    "language_info": {
      "name": "python"
    }
  },
  "cells": [
    {
      "cell_type": "markdown",
      "source": [
        "# 1page"
      ],
      "metadata": {
        "id": "KuYoPAGa5umm"
      }
    },
    {
      "cell_type": "code",
      "execution_count": null,
      "metadata": {
        "colab": {
          "base_uri": "https://localhost:8080/"
        },
        "id": "nYB7mt6f2n8j",
        "outputId": "52dccc51-3cd0-4181-d9ef-680fb082eb5d"
      },
      "outputs": [
        {
          "output_type": "stream",
          "name": "stdout",
          "text": [
            "I said \"Hello\" to you\n",
            "Let's go.\n"
          ]
        }
      ],
      "source": [
        "print('I said \"Hello\" to you')\n",
        "print(\"Let's go.\")"
      ]
    },
    {
      "cell_type": "code",
      "source": [
        "s1=int(input(\"삼각형의 밑변 길이 : \"))\n",
        "h=int(input(\"삼각형의 높이 : \"))\n",
        "s=(s1*h)/2\n",
        "print(s)"
      ],
      "metadata": {
        "colab": {
          "base_uri": "https://localhost:8080/"
        },
        "id": "Cy0cacFp6OHB",
        "outputId": "cc2a92e0-5254-4d84-a01d-923ef1be5e90"
      },
      "execution_count": null,
      "outputs": [
        {
          "output_type": "stream",
          "name": "stdout",
          "text": [
            "삼각형의 밑변 길이 : 10\n",
            "삼각형의 높이 : 3\n",
            "15.0\n"
          ]
        }
      ]
    },
    {
      "cell_type": "code",
      "source": [
        "h=int(input(\"현재 시 : \"))\n",
        "m=int(input(\"현재 분: \"))\n",
        "m=m+20;\n",
        "h=(h+m//60)\n",
        "m=m%60\n",
        "print(\"20분 뒤에는 %d시 %d분 입니다\"%(h,m))"
      ],
      "metadata": {
        "colab": {
          "base_uri": "https://localhost:8080/"
        },
        "id": "KDCbj66q7gW1",
        "outputId": "6549bfbd-04d7-48ae-fea7-ac16250053ca"
      },
      "execution_count": null,
      "outputs": [
        {
          "output_type": "stream",
          "name": "stdout",
          "text": [
            "현재 시 : 3\n",
            "현재 분: 54\n",
            "20분 뒤에는 4시 14분 입니다\n"
          ]
        }
      ]
    },
    {
      "cell_type": "code",
      "source": [
        "n=int(input(\"숫자 입력 : \"))\n",
        "if(n<0):\n",
        "  n=abs(n)\n",
        "print(n)"
      ],
      "metadata": {
        "colab": {
          "base_uri": "https://localhost:8080/"
        },
        "id": "KT9u2gk18mG1",
        "outputId": "c38fd672-36f8-4e36-f8f9-8ce3c82dc5df"
      },
      "execution_count": null,
      "outputs": [
        {
          "output_type": "stream",
          "name": "stdout",
          "text": [
            "숫자 입력 : -20\n",
            "20\n"
          ]
        }
      ]
    },
    {
      "cell_type": "code",
      "source": [
        "id=input(\"아이디를 입력하세요: \")\n",
        "le=int(input(\"회원 레벨을 입력하세요.: \"))\n",
        "if(id==\"admin\")|(le==1):\n",
        "  print(\"관리자입니다.\")\n",
        "else:\n",
        "  print(\"관리자가 압니다.\")\n"
      ],
      "metadata": {
        "colab": {
          "base_uri": "https://localhost:8080/"
        },
        "id": "QfaLezX-8mUc",
        "outputId": "21e26ed8-85bb-41dd-fb56-0de277bc619b"
      },
      "execution_count": null,
      "outputs": [
        {
          "output_type": "stream",
          "name": "stdout",
          "text": [
            "아이디를 입력하세요: happy\n",
            "회원 레벨을 입력하세요.: 1\n",
            "관리자입니다.\n"
          ]
        }
      ]
    },
    {
      "cell_type": "code",
      "source": [
        "max=0\n",
        "for i in range(1,4):\n",
        "  i=int(input(\"첫 번째 수: \"))\n",
        "  if(max<i):\n",
        "    max=i\n",
        "print(\"가장 큰 수는 %d 입니다\"%(max))"
      ],
      "metadata": {
        "colab": {
          "base_uri": "https://localhost:8080/"
        },
        "id": "XLXLZVKR8puM",
        "outputId": "86cd22a5-0308-4f95-ae7e-e7789c526108"
      },
      "execution_count": null,
      "outputs": [
        {
          "output_type": "stream",
          "name": "stdout",
          "text": [
            "첫 번째 수: 2\n",
            "첫 번째 수: 4\n",
            "첫 번째 수: 3\n",
            "가장 큰 수는 4 입니다\n"
          ]
        }
      ]
    },
    {
      "cell_type": "code",
      "source": [
        "age=int(input(\"나이 입력: \"))\n",
        "if(0<=age<=7):\n",
        "  print(\"어린이\")\n",
        "elif(8<=age<=13):\n",
        "  print(\"초등학생\")\n",
        "elif(14<=age<=16):\n",
        "  print(\"중학생\")\n",
        "elif(17<=age<=19):\n",
        "  print(\"고등학생\")\n",
        "else:\n",
        "  print(\"성인\")"
      ],
      "metadata": {
        "colab": {
          "base_uri": "https://localhost:8080/"
        },
        "id": "Yyy4dq8NBoJ0",
        "outputId": "fd6386b1-354d-4c89-957f-70fde0397a97"
      },
      "execution_count": null,
      "outputs": [
        {
          "output_type": "stream",
          "name": "stdout",
          "text": [
            "나이 입력: 23\n",
            "성인\n"
          ]
        }
      ]
    },
    {
      "cell_type": "code",
      "source": [
        "a=int(input(\"점수 입력: \"))\n",
        "if(90<=a):\n",
        "  print(\"A등급\")\n",
        "elif(80<=a<90):\n",
        "  print(\"B등급\")\n",
        "elif(70<=a<80):\n",
        "  print(\"C등급\")\n",
        "elif(a<70):\n",
        "  print(\"F등급\")\n"
      ],
      "metadata": {
        "colab": {
          "base_uri": "https://localhost:8080/"
        },
        "id": "1XZJEC4iEcWj",
        "outputId": "99ae19cd-e7c2-4cab-8026-1f8a40ad380a"
      },
      "execution_count": null,
      "outputs": [
        {
          "output_type": "stream",
          "name": "stdout",
          "text": [
            "점수 입력: 213\n",
            "A등급\n"
          ]
        }
      ]
    },
    {
      "cell_type": "code",
      "source": [
        "n=int(input(\"숫자 입력: \"))\n",
        "if(n%3==0):\n",
        "  if(n%5==0):\n",
        "    print(\"3과 5의 공배수\")\n",
        "if(n%3==0):\n",
        "  print(\"3의 배수\")\n",
        "else:\n",
        "  print(\"3의 배수 아님\")"
      ],
      "metadata": {
        "colab": {
          "base_uri": "https://localhost:8080/"
        },
        "id": "EPONNh-IFK87",
        "outputId": "65fc29a3-7c48-4e39-df02-3c7147be4480"
      },
      "execution_count": null,
      "outputs": [
        {
          "output_type": "stream",
          "name": "stdout",
          "text": [
            "숫자 입력: 5\n",
            "3의 배수 아님\n"
          ]
        }
      ]
    },
    {
      "cell_type": "code",
      "source": [
        "for i in range(1,21):\n",
        "  if(i%2!=0):\n",
        "    print(i,end=\" \")\n"
      ],
      "metadata": {
        "colab": {
          "base_uri": "https://localhost:8080/"
        },
        "id": "EnaNZedwGZZq",
        "outputId": "7974dcb2-5e75-4246-8f19-2d1d14b64296"
      },
      "execution_count": null,
      "outputs": [
        {
          "output_type": "stream",
          "name": "stdout",
          "text": [
            "1 3 5 7 9 11 13 15 17 19 "
          ]
        }
      ]
    },
    {
      "cell_type": "code",
      "source": [
        "sum=0\n",
        "for num in range(1,11):\n",
        "  sum=sum+num\n",
        "  print(\"num의 값 : %d  =>합계 : %d\"%(num,sum))\n",
        "  "
      ],
      "metadata": {
        "colab": {
          "base_uri": "https://localhost:8080/"
        },
        "id": "Qsy56_y_GsXa",
        "outputId": "6cf127a4-68c2-4ac0-d55c-29cb4c28509e"
      },
      "execution_count": null,
      "outputs": [
        {
          "output_type": "stream",
          "name": "stdout",
          "text": [
            "num의 값 : 1  =>합계 : 1\n",
            "num의 값 : 2  =>합계 : 3\n",
            "num의 값 : 3  =>합계 : 6\n",
            "num의 값 : 4  =>합계 : 10\n",
            "num의 값 : 5  =>합계 : 15\n",
            "num의 값 : 6  =>합계 : 21\n",
            "num의 값 : 7  =>합계 : 28\n",
            "num의 값 : 8  =>합계 : 36\n",
            "num의 값 : 9  =>합계 : 45\n",
            "num의 값 : 10  =>합계 : 55\n"
          ]
        }
      ]
    },
    {
      "cell_type": "code",
      "source": [
        "num=int(input(\"숫자 입력: \"))\n",
        "fac=1\n",
        "for i in range(1,num+1):\n",
        "  fac=fac*i\n",
        "print(\"%d! = %d\"%(num,fac))"
      ],
      "metadata": {
        "colab": {
          "base_uri": "https://localhost:8080/"
        },
        "id": "scq4U0RPG6Wr",
        "outputId": "d7e9e32c-c579-4752-9195-c22f798d9c07"
      },
      "execution_count": null,
      "outputs": [
        {
          "output_type": "stream",
          "name": "stdout",
          "text": [
            "숫자 입력: 10\n",
            "10! = 3628800\n"
          ]
        }
      ]
    },
    {
      "cell_type": "code",
      "source": [
        "import random\n",
        "cnt=0\n",
        "guess=random.randrange(1,101)\n",
        "print(\"정답: %d\"%(guess))\n",
        "print(\"1부터 100 사이의 숫자를 맞히기\")\n",
        "while(guess!=answer):\n",
        "  answer=int(input(\"숫자를 맞혀 보세요 : \"))\n",
        "  if answer>guess:\n",
        "    print(\"낮음\")\n",
        "  elif answer<guess:\n",
        "    print(\"높음\")\n",
        "  cnt+=1;\n",
        "if(answer==guess):\n",
        "  print(\"축하합니다. 시도횟수 = %d\"%(cnt))"
      ],
      "metadata": {
        "id": "Xm1CiJwcH2hq",
        "colab": {
          "base_uri": "https://localhost:8080/"
        },
        "outputId": "080eb0a7-61fa-4fbf-89d6-516843718387"
      },
      "execution_count": null,
      "outputs": [
        {
          "output_type": "stream",
          "name": "stdout",
          "text": [
            "정답: 58\n",
            "1부터 100 사이의 숫자를 맞히기\n",
            "숫자를 맞혀 보세요 : 58\n",
            "축하합니다. 시도횟수 = 1\n"
          ]
        }
      ]
    },
    {
      "cell_type": "code",
      "source": [
        "for i in range(10,51):\n",
        "  if(i%3!=0):\n",
        "    print(i,end=\" \")"
      ],
      "metadata": {
        "colab": {
          "base_uri": "https://localhost:8080/"
        },
        "id": "MGYvi512MP8o",
        "outputId": "04c9bfe5-99ca-4b64-9ad1-06aae0dac680"
      },
      "execution_count": null,
      "outputs": [
        {
          "output_type": "stream",
          "name": "stdout",
          "text": [
            "10 11 13 14 16 17 19 20 22 23 25 26 28 29 31 32 34 35 37 38 40 41 43 44 46 47 49 50 "
          ]
        }
      ]
    },
    {
      "cell_type": "code",
      "source": [
        "import random\n",
        "print(\"주사위 게임을 시작합니다\")\n",
        "print(\"주사위를 던졌습니다.\")\n",
        "me=random.randrange(1,6)\n",
        "you=random.randrange(1,6)\n",
        "print(\"나 : %d\"%(me))\n",
        "print(\"당신 : %d\"%(you))\n",
        "if me>you:\n",
        "  print(\"나의 승리!\")\n",
        "elif you<me:\n",
        "  print(\"당신의 승리\")\n",
        "else:\n",
        "  print(\"무승부\")\n",
        "again=input(\"계속하려면 y를 입력하세요! \")\n",
        "if(again=='y'):\n",
        "    print(\"주사위를 던졌습니다.\")\n",
        "me=random.randrange(1,6)\n",
        "you=random.randrange(1,6)\n",
        "print(\"나 : %d\"%(me))\n",
        "print(\"당신 : %d\"%(you))\n",
        "if me>you:\n",
        "  print(\"나의 승리!\")\n",
        "elif you<me:\n",
        "  print(\"당신의 승리\")\n",
        "else:\n",
        "  print(\"무승부\")\n",
        "again=input(\"계속하려면 y를 입력하세요! \")\n"
      ],
      "metadata": {
        "colab": {
          "base_uri": "https://localhost:8080/"
        },
        "id": "PkHVmmneOlJ4",
        "outputId": "63d18f8e-e6a1-4dbc-ada0-af8f6e5b3520"
      },
      "execution_count": null,
      "outputs": [
        {
          "name": "stdout",
          "output_type": "stream",
          "text": [
            "주사위 게임을 시작합니다\n",
            "주사위를 던졌습니다.\n",
            "나 : 5\n",
            "당신 : 5\n",
            "무승부\n",
            "계속하려면 y를 입력하세요! y\n",
            "주사위를 던졌습니다.\n",
            "나 : 4\n",
            "당신 : 2\n",
            "나의 승리!\n",
            "계속하려면 y를 입력하세요! n\n"
          ]
        }
      ]
    },
    {
      "cell_type": "code",
      "source": [
        "n=int(input(\"숫자 입력: \"))\n",
        "i=00\n",
        "while(n!=0):\n",
        "  print(n%10,end='')\n",
        "  n=n//10"
      ],
      "metadata": {
        "colab": {
          "base_uri": "https://localhost:8080/"
        },
        "id": "EFE1O34yRFeH",
        "outputId": "0af34f95-39ac-476e-cd3e-7f18894bcedd"
      },
      "execution_count": null,
      "outputs": [
        {
          "output_type": "stream",
          "name": "stdout",
          "text": [
            "숫자 입력: 32435\n",
            "53423"
          ]
        }
      ]
    },
    {
      "cell_type": "code",
      "source": [
        "for i in range(1,10):\n",
        "  print(\"2 x %d =  %d\"%(i,i*2))"
      ],
      "metadata": {
        "colab": {
          "base_uri": "https://localhost:8080/"
        },
        "id": "qfu6AbbuUvsO",
        "outputId": "613055c4-a316-4fb4-90bd-93e87be9efee"
      },
      "execution_count": null,
      "outputs": [
        {
          "output_type": "stream",
          "name": "stdout",
          "text": [
            "2 x 1 =  2\n",
            "2 x 2 =  4\n",
            "2 x 3 =  6\n",
            "2 x 4 =  8\n",
            "2 x 5 =  10\n",
            "2 x 6 =  12\n",
            "2 x 7 =  14\n",
            "2 x 8 =  16\n",
            "2 x 9 =  18\n"
          ]
        }
      ]
    },
    {
      "cell_type": "code",
      "source": [
        "for i in range(9,0,-1):\n",
        "  print(\"2 x %d =  %d\"%(i,i*2))"
      ],
      "metadata": {
        "colab": {
          "base_uri": "https://localhost:8080/"
        },
        "id": "STBO04WTZ40H",
        "outputId": "db242d10-6c44-40fd-dcf0-22d52b287efa"
      },
      "execution_count": null,
      "outputs": [
        {
          "output_type": "stream",
          "name": "stdout",
          "text": [
            "2 x 9 =  18\n",
            "2 x 8 =  16\n",
            "2 x 7 =  14\n",
            "2 x 6 =  12\n",
            "2 x 5 =  10\n",
            "2 x 4 =  8\n",
            "2 x 3 =  6\n",
            "2 x 2 =  4\n",
            "2 x 1 =  2\n"
          ]
        }
      ]
    },
    {
      "cell_type": "code",
      "source": [
        "max_p=0\n",
        "max_a=0\n",
        "for i in range(1,51):\n",
        "  if max_p<i*(100-i):\n",
        "    max_p=i*(100-i)\n",
        "    max_a=i\n",
        "print(max_a,\"*\",100-max_a,\"의 최대값은\",max_p,\"입니다.\")"
      ],
      "metadata": {
        "colab": {
          "base_uri": "https://localhost:8080/"
        },
        "id": "p_CWSmiVaAY8",
        "outputId": "536c4df2-6c2c-4b70-b02c-de70052020f3"
      },
      "execution_count": null,
      "outputs": [
        {
          "output_type": "stream",
          "name": "stdout",
          "text": [
            "50 * 50 의 최대값은 2500 입니다.\n"
          ]
        }
      ]
    },
    {
      "cell_type": "code",
      "source": [
        "num = int(input(\"정수를 입력하시오: \"))\n",
        "\n",
        "for i in range(1, num+1):\n",
        "    if num % i == 0:\n",
        "        print(i, end=' ')\n",
        "print()"
      ],
      "metadata": {
        "colab": {
          "base_uri": "https://localhost:8080/"
        },
        "id": "fjmvmoQwbMZF",
        "outputId": "28c5f7f0-95c4-4f9f-87e9-74a874312a00"
      },
      "execution_count": null,
      "outputs": [
        {
          "output_type": "stream",
          "name": "stdout",
          "text": [
            "수? 23\n",
            "1 23 \n"
          ]
        }
      ]
    },
    {
      "cell_type": "code",
      "source": [],
      "metadata": {
        "id": "kEcOTsSDbZ71"
      },
      "execution_count": null,
      "outputs": []
    },
    {
      "cell_type": "code",
      "source": [
        "cnt=0\n",
        "for i in range(1,100):\n",
        "  if i%4==0:\n",
        "    print(i)\n",
        "    cnt+=1;\n",
        "  if cnt%7==0:\n",
        "    print()"
      ],
      "metadata": {
        "id": "tEVP0I8RbvRj"
      },
      "execution_count": null,
      "outputs": []
    }
  ]
}