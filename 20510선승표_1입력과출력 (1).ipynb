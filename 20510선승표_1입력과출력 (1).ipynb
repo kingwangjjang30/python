{
  "nbformat": 4,
  "nbformat_minor": 0,
  "metadata": {
    "colab": {
      "provenance": []
    },
    "kernelspec": {
      "name": "python3",
      "display_name": "Python 3"
    },
    "language_info": {
      "name": "python"
    }
  },
  "cells": [
    {
      "cell_type": "markdown",
      "source": [
        "1.입력과 출력"
      ],
      "metadata": {
        "id": "Y5HqxHZRtDhz"
      }
    },
    {
      "cell_type": "markdown",
      "source": [
        "page 1"
      ],
      "metadata": {
        "id": "qrllPI_vtLvT"
      }
    },
    {
      "cell_type": "code",
      "source": [
        "print(3+4)"
      ],
      "metadata": {
        "colab": {
          "base_uri": "https://localhost:8080/"
        },
        "id": "MWEUTiD_sQiL",
        "outputId": "33ef131e-5c8f-46fb-b21f-869154ab1f3a"
      },
      "execution_count": 6,
      "outputs": [
        {
          "output_type": "stream",
          "name": "stdout",
          "text": [
            "7\n"
          ]
        }
      ]
    },
    {
      "cell_type": "code",
      "source": [
        "value=1234\n",
        "print(value)\n",
        "print(value+100)"
      ],
      "metadata": {
        "colab": {
          "base_uri": "https://localhost:8080/"
        },
        "id": "b0y42SXPtrvL",
        "outputId": "1f4dcbd3-bc2e-46e7-cdcb-39d542cc1736"
      },
      "execution_count": 8,
      "outputs": [
        {
          "output_type": "stream",
          "name": "stdout",
          "text": [
            "1234\n",
            "1334\n"
          ]
        }
      ]
    },
    {
      "cell_type": "code",
      "source": [
        "print(3+4)\n",
        "a=1\n",
        "b=2\n",
        "print(a+b)"
      ],
      "metadata": {
        "colab": {
          "base_uri": "https://localhost:8080/"
        },
        "id": "yQE_VDoWtxX1",
        "outputId": "07a47a19-ab60-40b3-e190-797bb4946711"
      },
      "execution_count": 9,
      "outputs": [
        {
          "output_type": "stream",
          "name": "stdout",
          "text": [
            "7\n",
            "3\n"
          ]
        }
      ]
    },
    {
      "cell_type": "code",
      "source": [
        "a='강아지'\n",
        "b='고양이'\n",
        "print(a) \n",
        "print(b)"
      ],
      "metadata": {
        "colab": {
          "base_uri": "https://localhost:8080/"
        },
        "id": "LMFQ-MVquwz8",
        "outputId": "e1012b50-08f1-499c-ada1-7ef7ef7af311"
      },
      "execution_count": 11,
      "outputs": [
        {
          "output_type": "stream",
          "name": "stdout",
          "text": [
            "강아지\n",
            "고양이\n"
          ]
        }
      ]
    },
    {
      "cell_type": "code",
      "source": [
        "print('*       *')\n",
        "print(' *     * ')\n",
        "print('  *   *  ')\n",
        "print('   * *   ')\n",
        "print('    *    ')"
      ],
      "metadata": {
        "colab": {
          "base_uri": "https://localhost:8080/"
        },
        "id": "CpOUHHuUu3I8",
        "outputId": "bfd69926-65fb-40ba-b479-8959fe5c7177"
      },
      "execution_count": 14,
      "outputs": [
        {
          "output_type": "stream",
          "name": "stdout",
          "text": [
            "*       *\n",
            " *     * \n",
            "  *   *  \n",
            "   * *   \n",
            "    *    \n"
          ]
        }
      ]
    },
    {
      "cell_type": "code",
      "source": [
        "a='강아지'\n",
        "b='고양이'\n",
        "print(a,end='')\n",
        "print(b)"
      ],
      "metadata": {
        "colab": {
          "base_uri": "https://localhost:8080/"
        },
        "id": "MlRJGqicvvw1",
        "outputId": "82b51ee0-51cf-41ca-bf23-f61d5138fd36"
      },
      "execution_count": 15,
      "outputs": [
        {
          "output_type": "stream",
          "name": "stdout",
          "text": [
            "강아지고양이\n"
          ]
        }
      ]
    },
    {
      "cell_type": "code",
      "source": [
        "print(34,end='^^')\n",
        "print(78)"
      ],
      "metadata": {
        "colab": {
          "base_uri": "https://localhost:8080/"
        },
        "id": "Z6iVbhF9wO1l",
        "outputId": "a624abda-59f3-4eba-8afd-b272a706688b"
      },
      "execution_count": 16,
      "outputs": [
        {
          "output_type": "stream",
          "name": "stdout",
          "text": [
            "34^^78\n"
          ]
        }
      ]
    },
    {
      "cell_type": "code",
      "source": [
        "a=12\n",
        "b=34\n",
        "print(a,b)"
      ],
      "metadata": {
        "colab": {
          "base_uri": "https://localhost:8080/"
        },
        "id": "U3kTf7n3wgLN",
        "outputId": "09ac6469-3776-41a9-aa7e-b070a301b5e3"
      },
      "execution_count": 17,
      "outputs": [
        {
          "output_type": "stream",
          "name": "stdout",
          "text": [
            "12 34\n"
          ]
        }
      ]
    },
    {
      "cell_type": "markdown",
      "source": [
        "# page 2"
      ],
      "metadata": {
        "id": "z0qlMpulvoK8"
      }
    },
    {
      "cell_type": "code",
      "source": [
        "a=12\n",
        "b=34\n",
        "print(a,b,sep=',')"
      ],
      "metadata": {
        "colab": {
          "base_uri": "https://localhost:8080/"
        },
        "id": "Rcm-zVYjwoUt",
        "outputId": "232c9972-b58a-40d8-c5bc-1667d96fa52f"
      },
      "execution_count": 19,
      "outputs": [
        {
          "output_type": "stream",
          "name": "stdout",
          "text": [
            "12,34\n"
          ]
        }
      ]
    },
    {
      "cell_type": "code",
      "source": [
        "s='서울'\n",
        "d='대전'\n",
        "g='대구'\n",
        "b='부산'\n",
        "print(s,d,g,b,sep=' 찍고 ',end=' 찍고 ')"
      ],
      "metadata": {
        "colab": {
          "base_uri": "https://localhost:8080/"
        },
        "id": "sS9OLGNlw_gc",
        "outputId": "67d63141-12e5-49bd-a4a6-8f70183c29d1"
      },
      "execution_count": 23,
      "outputs": [
        {
          "output_type": "stream",
          "name": "stdout",
          "text": [
            "서울 찍고 대전 찍고 대구 찍고 부산 찍고 "
          ]
        }
      ]
    },
    {
      "cell_type": "code",
      "source": [
        "print(12,34,56,sep='^^',end='-->')\n",
        "print(78)\n"
      ],
      "metadata": {
        "colab": {
          "base_uri": "https://localhost:8080/"
        },
        "id": "lQfXUJv3xcT9",
        "outputId": "e1d46f3b-a08b-4b4b-b9ad-3cfba5ddd5fc"
      },
      "execution_count": 24,
      "outputs": [
        {
          "output_type": "stream",
          "name": "stdout",
          "text": [
            "12^^34^^56-->78\n"
          ]
        }
      ]
    },
    {
      "cell_type": "code",
      "source": [
        "a=13\n",
        "b=21\n",
        "print(a,b)\n",
        "print(a+b)\n",
        "print(a,b,sep='')\n",
        "print(a,b,end='')"
      ],
      "metadata": {
        "colab": {
          "base_uri": "https://localhost:8080/"
        },
        "id": "cI-uDmORxy5X",
        "outputId": "f1807eb0-f526-4831-ee7c-0509a342c6b1"
      },
      "execution_count": 29,
      "outputs": [
        {
          "output_type": "stream",
          "name": "stdout",
          "text": [
            "13 21\n",
            "34\n",
            "1321\n",
            "13 21"
          ]
        }
      ]
    },
    {
      "cell_type": "code",
      "source": [
        "age =input('몇 살이세요? ')\n",
        "print(age)"
      ],
      "metadata": {
        "colab": {
          "base_uri": "https://localhost:8080/"
        },
        "id": "fToT8L0FyY8d",
        "outputId": "bc8e353d-5f25-42c7-8889-96f819315da6"
      },
      "execution_count": 32,
      "outputs": [
        {
          "output_type": "stream",
          "name": "stdout",
          "text": [
            "몇 살이세요? 34\n",
            "34\n"
          ]
        }
      ]
    },
    {
      "cell_type": "code",
      "source": [
        "name=input('이름을 입력하세요: ')\n",
        "print('안녕하세요 ',name,end=' 님!')"
      ],
      "metadata": {
        "colab": {
          "base_uri": "https://localhost:8080/"
        },
        "id": "3VS9tcdmyu7-",
        "outputId": "a0e888e1-70ed-4a4f-fdf5-5db63732a522"
      },
      "execution_count": 35,
      "outputs": [
        {
          "output_type": "stream",
          "name": "stdout",
          "text": [
            "이름을 입력하세요: 윤아\n",
            "안녕하세요  윤아 님!"
          ]
        }
      ]
    },
    {
      "cell_type": "code",
      "source": [
        "first=input('첫 번째 과일 입력: ')\n",
        "second=input('두 번째 과일 입력: ')\n",
        "print(first, ' 와(과) ', second, ' 은(는) ','내가 좋아하는 과일이다')"
      ],
      "metadata": {
        "colab": {
          "base_uri": "https://localhost:8080/"
        },
        "id": "P_OAf6-BwNu1",
        "outputId": "6b7122cf-090e-49bb-dfaa-9f658b2e10dd"
      },
      "execution_count": 37,
      "outputs": [
        {
          "output_type": "stream",
          "name": "stdout",
          "text": [
            "첫 번째 과일 입력: 사과\n",
            "두 번째 과일 입력: 수박\n",
            "사과  와(과)  수박  은(는)  내가 좋아하는 과일이다\n"
          ]
        }
      ]
    },
    {
      "cell_type": "code",
      "source": [
        "year=input('몇 년도? ')\n",
        "month=input('몇 월? ')\n",
        "day=input('몇 일? ')\n",
        "print(year,month,day,sep=' . ')"
      ],
      "metadata": {
        "colab": {
          "base_uri": "https://localhost:8080/"
        },
        "id": "U08Us8Zk0234",
        "outputId": "02393eab-8365-44cd-d6f7-38734969ffe5"
      },
      "execution_count": 39,
      "outputs": [
        {
          "output_type": "stream",
          "name": "stdout",
          "text": [
            "몇 년도? 2021\n",
            "몇 월? 12\n",
            "몇 일? 25\n",
            "2021 . 12 . 25\n"
          ]
        }
      ]
    },
    {
      "cell_type": "code",
      "source": [
        "age=input('몇 살이세요? ')\n",
        "print(age + age)"
      ],
      "metadata": {
        "colab": {
          "base_uri": "https://localhost:8080/"
        },
        "id": "E_JK2gmW1URH",
        "outputId": "0001c9f9-1d29-42a2-905f-2ef245cac435"
      },
      "execution_count": 40,
      "outputs": [
        {
          "output_type": "stream",
          "name": "stdout",
          "text": [
            "몇 살이세요? 34\n",
            "3434\n"
          ]
        }
      ]
    },
    {
      "cell_type": "markdown",
      "source": [
        "# page 3*이탤릭체 텍스트*"
      ],
      "metadata": {
        "id": "lHQ3A80K2gpA"
      }
    },
    {
      "cell_type": "code",
      "source": [
        "age = input('몇 살이세요?')\n",
        "age = int(age)\n",
        "print(age +age)"
      ],
      "metadata": {
        "colab": {
          "base_uri": "https://localhost:8080/"
        },
        "id": "uMzPbXJZ2jeH",
        "outputId": "056fc47e-b36d-46f4-b9ca-313e4a9e9003"
      },
      "execution_count": 41,
      "outputs": [
        {
          "output_type": "stream",
          "name": "stdout",
          "text": [
            "몇 살이세요?34\n",
            "68\n"
          ]
        }
      ]
    },
    {
      "cell_type": "code",
      "source": [
        "price=int(input('가격을 입력하세요 : '))\n",
        "num = int(input('개수를 입력하세요 : '))\n",
        "sum = price * num\n",
        "print('총액은',sum,'원입니다.')"
      ],
      "metadata": {
        "colab": {
          "base_uri": "https://localhost:8080/"
        },
        "id": "fZL-OvHd26W3",
        "outputId": "726bfbba-5208-4602-e396-18c6952ebd74"
      },
      "execution_count": 44,
      "outputs": [
        {
          "output_type": "stream",
          "name": "stdout",
          "text": [
            "가격을 입력하세요 : 18000\n",
            "개수를 입력하세요 : 3\n",
            "총액은 54000 원입니다.\n"
          ]
        }
      ]
    },
    {
      "cell_type": "code",
      "source": [
        "width=int(input('사각형의 가로: '))\n",
        "length=int(input('사각형의 세로: '))\n",
        "space=width*length\n",
        "print('사각형의 면적은 ',space,'입니다.')"
      ],
      "metadata": {
        "colab": {
          "base_uri": "https://localhost:8080/"
        },
        "id": "GpTdJkHl3g_y",
        "outputId": "0d61efcf-37f2-46c6-e532-6dba0f5b4b09"
      },
      "execution_count": 45,
      "outputs": [
        {
          "output_type": "stream",
          "name": "stdout",
          "text": [
            "사각형의 가로: 5\n",
            "사각형의 세로: 4\n",
            "사각형의 면적은  20  입니다.\n"
          ]
        }
      ]
    },
    {
      "cell_type": "code",
      "source": [
        "name=input('이름? ')\n",
        "bornyear=int(input('태어난 해는? '))\n",
        "age=2023-bornyear+1\n",
        "print(name,' 님의 나이는 ',age,'세 입니다.')"
      ],
      "metadata": {
        "colab": {
          "base_uri": "https://localhost:8080/"
        },
        "id": "mHQ_rx1x4rA4",
        "outputId": "ac8e7c59-4bbd-4633-a436-3cdca87a1c58"
      },
      "execution_count": 46,
      "outputs": [
        {
          "output_type": "stream",
          "name": "stdout",
          "text": [
            "이름? 정수\n",
            "태어난 해는? 2006\n",
            "정수  님의 나이는  18 세 입니다.\n"
          ]
        }
      ]
    },
    {
      "cell_type": "markdown",
      "source": [
        "# page 4"
      ],
      "metadata": {
        "id": "4sZOTTez5tTZ"
      }
    },
    {
      "cell_type": "code",
      "source": [
        "print( type('안녕하세요'))\n",
        "print( type(273))\n",
        "print( type(3.141592))"
      ],
      "metadata": {
        "colab": {
          "base_uri": "https://localhost:8080/"
        },
        "id": "HI7vbRyR5ycx",
        "outputId": "f705f7db-6d33-40c0-d229-37837f6b28cd"
      },
      "execution_count": 47,
      "outputs": [
        {
          "output_type": "stream",
          "name": "stdout",
          "text": [
            "<class 'str'>\n",
            "<class 'int'>\n",
            "<class 'float'>\n"
          ]
        }
      ]
    },
    {
      "cell_type": "code",
      "source": [
        "score =100\n",
        "print(score)\n",
        "print(type(score))"
      ],
      "metadata": {
        "colab": {
          "base_uri": "https://localhost:8080/"
        },
        "id": "d4L-uWkE6eQa",
        "outputId": "0e7dde66-ce1f-4352-b10c-60fbdc86e3b8"
      },
      "execution_count": 48,
      "outputs": [
        {
          "output_type": "stream",
          "name": "stdout",
          "text": [
            "100\n",
            "<class 'int'>\n"
          ]
        }
      ]
    },
    {
      "cell_type": "code",
      "source": [
        "score='high'\n",
        "print(score)\n",
        "print(type(score))"
      ],
      "metadata": {
        "colab": {
          "base_uri": "https://localhost:8080/"
        },
        "id": "cfMdRF-l7Wqx",
        "outputId": "da0c3993-95ad-46d6-d592-a9f95919b389"
      },
      "execution_count": 49,
      "outputs": [
        {
          "output_type": "stream",
          "name": "stdout",
          "text": [
            "high\n",
            "<class 'str'>\n"
          ]
        }
      ]
    },
    {
      "cell_type": "markdown",
      "source": [
        "# page 5"
      ],
      "metadata": {
        "id": "JTZQ55qC7hfy"
      }
    },
    {
      "cell_type": "code",
      "source": [
        "num=123456789\n",
        "print(num)\n",
        "print(type(num))"
      ],
      "metadata": {
        "colab": {
          "base_uri": "https://localhost:8080/"
        },
        "id": "rForaKfa7iwa",
        "outputId": "bd14a685-6b9b-46cf-d7a9-53bdd9e82949"
      },
      "execution_count": 50,
      "outputs": [
        {
          "output_type": "stream",
          "name": "stdout",
          "text": [
            "123456789\n",
            "<class 'int'>\n"
          ]
        }
      ]
    },
    {
      "cell_type": "code",
      "source": [
        "num=-20909\n",
        "print(num)\n",
        "print(type(num))"
      ],
      "metadata": {
        "colab": {
          "base_uri": "https://localhost:8080/"
        },
        "id": "AuUrE1JP71i6",
        "outputId": "b24e3c4a-c12b-4e9b-ed7b-85e70042ee0c"
      },
      "execution_count": 51,
      "outputs": [
        {
          "output_type": "stream",
          "name": "stdout",
          "text": [
            "-20909\n",
            "<class 'int'>\n"
          ]
        }
      ]
    },
    {
      "cell_type": "code",
      "source": [
        "a=1.5\n",
        "b=-3.5\n",
        "print(a,b)\n",
        "print(type(a),type(b))"
      ],
      "metadata": {
        "colab": {
          "base_uri": "https://localhost:8080/"
        },
        "id": "_dwoPRTS780K",
        "outputId": "71674fd0-aaa2-4dc6-95ff-75e4d656eff7"
      },
      "execution_count": 52,
      "outputs": [
        {
          "output_type": "stream",
          "name": "stdout",
          "text": [
            "1.5 -3.5\n",
            "<class 'float'> <class 'float'>\n"
          ]
        }
      ]
    },
    {
      "cell_type": "code",
      "source": [
        "x=3.3764\n",
        "y=6/2\n",
        "print(x,y)\n",
        "print(type(x),type(y))"
      ],
      "metadata": {
        "colab": {
          "base_uri": "https://localhost:8080/"
        },
        "id": "T_qKkIOO8d7D",
        "outputId": "4cef8aa9-31db-4449-fd0d-6e998f87b9f8"
      },
      "execution_count": 53,
      "outputs": [
        {
          "output_type": "stream",
          "name": "stdout",
          "text": [
            "3.3764 3.0\n",
            "<class 'float'> <class 'float'>\n"
          ]
        }
      ]
    },
    {
      "cell_type": "code",
      "source": [
        "a=\"Korea 서울 1234\"\n",
        "print(a)\n",
        "print(type(a))"
      ],
      "metadata": {
        "colab": {
          "base_uri": "https://localhost:8080/"
        },
        "id": "O7oIRogb8p0q",
        "outputId": "f4c2b231-b798-4fe5-c5fc-d3f88abcf680"
      },
      "execution_count": 54,
      "outputs": [
        {
          "output_type": "stream",
          "name": "stdout",
          "text": [
            "Korea 서울 1234\n",
            "<class 'str'>\n"
          ]
        }
      ]
    },
    {
      "cell_type": "code",
      "source": [
        "b='30'\n",
        "print(b)\n",
        "print(type(b))"
      ],
      "metadata": {
        "colab": {
          "base_uri": "https://localhost:8080/"
        },
        "id": "B69iE3p18_5r",
        "outputId": "ececd56a-84da-45ef-8203-b1976e1afa6b"
      },
      "execution_count": 55,
      "outputs": [
        {
          "output_type": "stream",
          "name": "stdout",
          "text": [
            "30\n",
            "<class 'str'>\n"
          ]
        }
      ]
    },
    {
      "cell_type": "code",
      "source": [
        "a=5\n",
        "b=a==5\n",
        "print(b)"
      ],
      "metadata": {
        "colab": {
          "base_uri": "https://localhost:8080/"
        },
        "id": "LM7g753S9J1L",
        "outputId": "5372ca78-89d1-4495-865f-0eb68b70d45b"
      },
      "execution_count": 56,
      "outputs": [
        {
          "output_type": "stream",
          "name": "stdout",
          "text": [
            "True\n"
          ]
        }
      ]
    },
    {
      "cell_type": "code",
      "source": [
        "if a==5:\n",
        "  print(\"a는5\")"
      ],
      "metadata": {
        "colab": {
          "base_uri": "https://localhost:8080/"
        },
        "id": "CGCQfe2w9ctb",
        "outputId": "244bc3f0-a3fa-490d-f43e-d1fa0c7ce6b0"
      },
      "execution_count": 58,
      "outputs": [
        {
          "output_type": "stream",
          "name": "stdout",
          "text": [
            "a는5\n"
          ]
        }
      ]
    },
    {
      "cell_type": "markdown",
      "source": [
        "# page 6"
      ],
      "metadata": {
        "id": "7hV4x1TB9sHU"
      }
    },
    {
      "cell_type": "code",
      "source": [
        "a=input('첫번째숫자를 입력하세요: ')\n",
        "b=input('두번째숫자를 입력하세요: ')\n",
        "c=a+b\n",
        "print(c)"
      ],
      "metadata": {
        "colab": {
          "base_uri": "https://localhost:8080/"
        },
        "id": "L925YiJY9rRD",
        "outputId": "b22afa72-a88a-4314-998f-d6f5894945cc"
      },
      "execution_count": 59,
      "outputs": [
        {
          "output_type": "stream",
          "name": "stdout",
          "text": [
            "첫번째숫자를 입력하세요: 12\n",
            "두번째숫자를 입력하세요: \n",
            "12\n"
          ]
        }
      ]
    },
    {
      "cell_type": "code",
      "source": [
        "inch=float(input('인치를 입력하세요 '))\n",
        "cm=inch*2.54\n",
        "print('센티미터: ',cm)"
      ],
      "metadata": {
        "colab": {
          "base_uri": "https://localhost:8080/"
        },
        "id": "QCVTokqQ-M7j",
        "outputId": "52828c08-6782-44d4-efd3-78f0a0e9f428"
      },
      "execution_count": 62,
      "outputs": [
        {
          "output_type": "stream",
          "name": "stdout",
          "text": [
            "인치를 입력하세요 3.5\n",
            "센티미터:  8.89\n"
          ]
        }
      ]
    },
    {
      "cell_type": "code",
      "source": [
        "r=int(input(\"반지름은? \"))\n",
        "round=r*2*3.14\n",
        "space=r*r*3.14\n",
        "\n",
        "print(f\"반지름이 {r}인 원의 둘레는 {round:.2f}이고 면적은 {space}이다.\")\n",
        "print(\"반지름이 %d인 원의 둘레는 %.1f이고 면적은 %.1f 이다.\"%(r,round,space))"
      ],
      "metadata": {
        "colab": {
          "base_uri": "https://localhost:8080/"
        },
        "id": "fMqTISF7-4c1",
        "outputId": "e02d3025-5de8-4c6c-a3eb-da0de0e595b4"
      },
      "execution_count": 79,
      "outputs": [
        {
          "output_type": "stream",
          "name": "stdout",
          "text": [
            "반지름은? 5\n",
            "반지름이 5인 원의 둘레는 31.40이고 면적은 78.5이다.\n",
            "반지름이 5인 원의 둘레는 31.4이고 면적은 78.5 이다.\n"
          ]
        }
      ]
    },
    {
      "cell_type": "code",
      "source": [
        "length=int(input(\"현재 키는? : \"))\n",
        "purpose=int(input(\"5개월 후의 목표 키는? \"))\n",
        "avg=float((purpose-length)/5)\n",
        "print('한달에 ',avg,'cm씩 성장해 보세요!')"
      ],
      "metadata": {
        "colab": {
          "base_uri": "https://localhost:8080/"
        },
        "id": "Jyy62wFx--hN",
        "outputId": "52c2a039-fef9-4c52-f9ff-48675311b629"
      },
      "execution_count": 78,
      "outputs": [
        {
          "output_type": "stream",
          "name": "stdout",
          "text": [
            "현재 키는? : 160\n",
            "5개월 후의 목표 키는? 168\n",
            "한달에  1.6 cm씩 성장해 보세요!\n"
          ]
        }
      ]
    },
    {
      "cell_type": "code",
      "source": [
        "book=int(input('책 값 : '))\n",
        "discount=float(input('할인율(%) : '))\n",
        "delivery=int(input('배송비 : '))\n",
        "price=book-(book*discount/100)+delivery\n",
        "print(\"결제하실 금액은 %.1f 원 입니다\"%(price))"
      ],
      "metadata": {
        "colab": {
          "base_uri": "https://localhost:8080/"
        },
        "id": "JoBVptTSEJ6W",
        "outputId": "ed76a2f7-416c-4b31-c315-47d0794aae04"
      },
      "execution_count": 82,
      "outputs": [
        {
          "output_type": "stream",
          "name": "stdout",
          "text": [
            "책 값 : 3000\n",
            "할인율(%) : 20\n",
            "배송비 : 3000\n",
            "결제하실 금액은 5400.0 원 입니다\n"
          ]
        }
      ]
    },
    {
      "cell_type": "code",
      "source": [
        "a=int(input('첫 번째 과목 : '))\n",
        "b=int(input('두 번째 과목 : '))\n",
        "sum=a+b\n",
        "avg=float((a+b)/2)\n",
        "print(\"합계: %d,평균: %0.1f\"%(sum,avg))"
      ],
      "metadata": {
        "colab": {
          "base_uri": "https://localhost:8080/"
        },
        "id": "zo4tFiFeFavd",
        "outputId": "6918c508-e56a-4505-ad53-be6c21a96463"
      },
      "execution_count": 83,
      "outputs": [
        {
          "output_type": "stream",
          "name": "stdout",
          "text": [
            "첫 번째 과목 : 80\n",
            "두 번째 과목 : 96\n",
            "합계: 176,평균: 88.0\n"
          ]
        }
      ]
    },
    {
      "cell_type": "code",
      "source": [
        "length=int(input('삼각형의 밑변 길이  : '))\n",
        "high=int(input('삼각형의 높이 : '))\n",
        "space=float((length*high)/2)\n",
        "print('삼각형의 면적 : ',space)"
      ],
      "metadata": {
        "colab": {
          "base_uri": "https://localhost:8080/"
        },
        "id": "pF8obumBGuiG",
        "outputId": "8dfa552f-1de1-4143-afc2-d05d5cd90908"
      },
      "execution_count": 84,
      "outputs": [
        {
          "output_type": "stream",
          "name": "stdout",
          "text": [
            "삼각형의 밑변 길이  : 15\n",
            "삼각형의 높이 : 2\n",
            "삼각형의 면적 :  15.0\n"
          ]
        }
      ]
    },
    {
      "cell_type": "code",
      "source": [
        "kg=float(input('킬로그램(kg) 입력 : '))\n",
        "found=float(kg*2.2046)\n",
        "print(\"%.1f은 %.4f 파운드입니다.\"%(kg,found))"
      ],
      "metadata": {
        "colab": {
          "base_uri": "https://localhost:8080/"
        },
        "id": "MHUogbN2HVPv",
        "outputId": "b4f528e9-1f12-4e22-f55c-873fd3ba1f69"
      },
      "execution_count": 86,
      "outputs": [
        {
          "output_type": "stream",
          "name": "stdout",
          "text": [
            "킬로그램(kg) 입력 : 30.5\n",
            "30.5은 67.2403 파운드입니다.\n"
          ]
        }
      ]
    },
    {
      "cell_type": "code",
      "source": [],
      "metadata": {
        "id": "-oQhjsuDH9wI"
      },
      "execution_count": null,
      "outputs": []
    },
    {
      "cell_type": "markdown",
      "source": [
        "# page 7"
      ],
      "metadata": {
        "id": "WVWyBG45H_mY"
      }
    },
    {
      "cell_type": "code",
      "source": [
        "print(5+2)\n",
        "print(5-2)\n",
        "print(5*2)\n",
        "print(5/2)\n",
        "print(5**2)\n",
        "print(5//2)\n",
        "print(5%2)"
      ],
      "metadata": {
        "colab": {
          "base_uri": "https://localhost:8080/"
        },
        "id": "PBNwJjYaIBdQ",
        "outputId": "4a11c719-6206-4c9e-9038-8f1020dd9d40"
      },
      "execution_count": 87,
      "outputs": [
        {
          "output_type": "stream",
          "name": "stdout",
          "text": [
            "7\n",
            "3\n",
            "10\n",
            "2.5\n",
            "25\n",
            "2\n",
            "1\n"
          ]
        }
      ]
    },
    {
      "cell_type": "code",
      "source": [
        "x=10%3\n",
        "print(x)\n",
        "y=7/3\n",
        "print(y)"
      ],
      "metadata": {
        "colab": {
          "base_uri": "https://localhost:8080/"
        },
        "id": "ZIzNDRrQIRwQ",
        "outputId": "dbcfd8f0-34ca-49c8-bd2f-de4b5f396442"
      },
      "execution_count": 88,
      "outputs": [
        {
          "output_type": "stream",
          "name": "stdout",
          "text": [
            "1\n",
            "2.3333333333333335\n"
          ]
        }
      ]
    },
    {
      "cell_type": "code",
      "source": [
        "a=10%3\n",
        "b=20\n",
        "c=a+b*10-5/5\n",
        "print(c)"
      ],
      "metadata": {
        "colab": {
          "base_uri": "https://localhost:8080/"
        },
        "id": "Y0D5YNTkIacX",
        "outputId": "be6acd47-8edb-4f7f-f344-22bfc9366e38"
      },
      "execution_count": 90,
      "outputs": [
        {
          "output_type": "stream",
          "name": "stdout",
          "text": [
            "200.0\n"
          ]
        }
      ]
    },
    {
      "cell_type": "code",
      "source": [
        "x=2**3\n",
        "print(x)\n",
        "\n",
        "\n",
        "y=10**4\n",
        "print(y)"
      ],
      "metadata": {
        "colab": {
          "base_uri": "https://localhost:8080/"
        },
        "id": "3CZRAbm6IkSY",
        "outputId": "8760a49c-dc8a-47e3-a111-867d6d47728c"
      },
      "execution_count": 91,
      "outputs": [
        {
          "output_type": "stream",
          "name": "stdout",
          "text": [
            "8\n",
            "10000\n"
          ]
        }
      ]
    },
    {
      "cell_type": "code",
      "source": [
        "hello = '안녕'*5\n",
        "print(hello)"
      ],
      "metadata": {
        "colab": {
          "base_uri": "https://localhost:8080/"
        },
        "id": "oA9nccQMIt54",
        "outputId": "5488b2bd-96fd-4c84-9c6e-6623224b5666"
      },
      "execution_count": 92,
      "outputs": [
        {
          "output_type": "stream",
          "name": "stdout",
          "text": [
            "안녕안녕안녕안녕안녕\n"
          ]
        }
      ]
    },
    {
      "cell_type": "code",
      "source": [
        "s1='대한민국'\n",
        "s2='만세'\n",
        "print(s1+s2)\n",
        "print(s1*5)"
      ],
      "metadata": {
        "colab": {
          "base_uri": "https://localhost:8080/"
        },
        "id": "OZgpg_-HI2HA",
        "outputId": "35562dc3-81a4-430d-ea37-e264e3e315a2"
      },
      "execution_count": 93,
      "outputs": [
        {
          "output_type": "stream",
          "name": "stdout",
          "text": [
            "대한민국만세\n",
            "대한민국대한민국대한민국대한민국대한민국\n"
          ]
        }
      ]
    },
    {
      "cell_type": "code",
      "source": [
        "print(\"korea\"+str(2021))\n",
        "print(10+int(\"22\"))\n",
        "print(10+int(22.5))\n",
        "print(10+int(float(22.5)))\n",
        "print(\"korea\"+2021)"
      ],
      "metadata": {
        "colab": {
          "base_uri": "https://localhost:8080/",
          "height": 284
        },
        "id": "AkrxeAegJH7I",
        "outputId": "f7f59068-8ab5-4c84-9a1d-0bb735e3fd54"
      },
      "execution_count": 95,
      "outputs": [
        {
          "output_type": "stream",
          "name": "stdout",
          "text": [
            "korea2021\n",
            "32\n",
            "32\n",
            "32\n"
          ]
        },
        {
          "output_type": "error",
          "ename": "TypeError",
          "evalue": "ignored",
          "traceback": [
            "\u001b[0;31m---------------------------------------------------------------------------\u001b[0m",
            "\u001b[0;31mTypeError\u001b[0m                                 Traceback (most recent call last)",
            "\u001b[0;32m<ipython-input-95-edac313156ed>\u001b[0m in \u001b[0;36m<module>\u001b[0;34m\u001b[0m\n\u001b[1;32m      3\u001b[0m \u001b[0mprint\u001b[0m\u001b[0;34m(\u001b[0m\u001b[0;36m10\u001b[0m\u001b[0;34m+\u001b[0m\u001b[0mint\u001b[0m\u001b[0;34m(\u001b[0m\u001b[0;36m22.5\u001b[0m\u001b[0;34m)\u001b[0m\u001b[0;34m)\u001b[0m\u001b[0;34m\u001b[0m\u001b[0;34m\u001b[0m\u001b[0m\n\u001b[1;32m      4\u001b[0m \u001b[0mprint\u001b[0m\u001b[0;34m(\u001b[0m\u001b[0;36m10\u001b[0m\u001b[0;34m+\u001b[0m\u001b[0mint\u001b[0m\u001b[0;34m(\u001b[0m\u001b[0mfloat\u001b[0m\u001b[0;34m(\u001b[0m\u001b[0;36m22.5\u001b[0m\u001b[0;34m)\u001b[0m\u001b[0;34m)\u001b[0m\u001b[0;34m)\u001b[0m\u001b[0;34m\u001b[0m\u001b[0;34m\u001b[0m\u001b[0m\n\u001b[0;32m----> 5\u001b[0;31m \u001b[0mprint\u001b[0m\u001b[0;34m(\u001b[0m\u001b[0;34m\"korea\"\u001b[0m\u001b[0;34m+\u001b[0m\u001b[0;36m2021\u001b[0m\u001b[0;34m)\u001b[0m\u001b[0;34m\u001b[0m\u001b[0;34m\u001b[0m\u001b[0m\n\u001b[0m",
            "\u001b[0;31mTypeError\u001b[0m: can only concatenate str (not \"int\") to str"
          ]
        }
      ]
    },
    {
      "cell_type": "markdown",
      "source": [
        "# page 8"
      ],
      "metadata": {
        "id": "gvAi6W-UJlyK"
      }
    },
    {
      "cell_type": "code",
      "source": [
        "x=10\n",
        "x+=20\n",
        "print(x)"
      ],
      "metadata": {
        "colab": {
          "base_uri": "https://localhost:8080/"
        },
        "id": "TFtnDBqVJn3B",
        "outputId": "ceb15d50-7c80-4896-c41b-47ba36e0251b"
      },
      "execution_count": 96,
      "outputs": [
        {
          "output_type": "stream",
          "name": "stdout",
          "text": [
            "30\n"
          ]
        }
      ]
    },
    {
      "cell_type": "code",
      "source": [
        "a=5\n",
        "a=a+1\n",
        "print(a)\n",
        "\n",
        "a=5\n",
        "a+=1\n",
        "print(a)\n",
        "\n",
        "a-=5\n",
        "print(a)\n",
        "\n",
        "a*=2\n",
        "print(a)"
      ],
      "metadata": {
        "colab": {
          "base_uri": "https://localhost:8080/"
        },
        "id": "IN8fu9ueJtcw",
        "outputId": "6ca0c7da-dd1a-45d6-819f-03efdb2611ee"
      },
      "execution_count": 97,
      "outputs": [
        {
          "output_type": "stream",
          "name": "stdout",
          "text": [
            "6\n",
            "6\n",
            "1\n",
            "2\n"
          ]
        }
      ]
    },
    {
      "cell_type": "code",
      "source": [
        "x=3\n",
        "y=5\n",
        "x*=x+y\n",
        "print(x)"
      ],
      "metadata": {
        "colab": {
          "base_uri": "https://localhost:8080/"
        },
        "id": "Jy_s0WwGJ4wZ",
        "outputId": "3374a458-1de5-42cf-8776-6530938f797a"
      },
      "execution_count": 98,
      "outputs": [
        {
          "output_type": "stream",
          "name": "stdout",
          "text": [
            "24\n"
          ]
        }
      ]
    }
  ]
}